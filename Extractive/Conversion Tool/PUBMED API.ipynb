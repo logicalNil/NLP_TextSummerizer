{
 "cells": [
  {
   "cell_type": "code",
   "execution_count": 1,
   "metadata": {
    "ExecuteTime": {
     "end_time": "2024-01-21T03:41:41.859740400Z",
     "start_time": "2024-01-21T03:41:41.728195900Z"
    }
   },
   "outputs": [],
   "source": [
    "from pymed import PubMed"
   ]
  },
  {
   "cell_type": "code",
   "execution_count": 2,
   "metadata": {
    "ExecuteTime": {
     "end_time": "2024-01-21T03:41:44.422278600Z",
     "start_time": "2024-01-21T03:41:44.407496700Z"
    }
   },
   "outputs": [],
   "source": [
    "pubmed = PubMed(tool=\"MyTool\", email=\"my@email.address\")"
   ]
  },
  {
   "cell_type": "code",
   "execution_count": 3,
   "metadata": {
    "ExecuteTime": {
     "end_time": "2024-01-21T03:41:45.127848300Z",
     "start_time": "2024-01-21T03:41:45.121763200Z"
    }
   },
   "outputs": [],
   "source": [
    "query = \"Femur Fracture\""
   ]
  },
  {
   "cell_type": "code",
   "execution_count": 4,
   "metadata": {
    "ExecuteTime": {
     "end_time": "2024-01-21T03:41:47.104752600Z",
     "start_time": "2024-01-21T03:41:45.713419800Z"
    }
   },
   "outputs": [],
   "source": [
    "results = pubmed.query(query, max_results=5)"
   ]
  },
  {
   "cell_type": "code",
   "execution_count": 5,
   "metadata": {
    "scrolled": false,
    "ExecuteTime": {
     "end_time": "2024-01-21T03:41:50.863284400Z",
     "start_time": "2024-01-21T03:41:48.998113100Z"
    }
   },
   "outputs": [
    {
     "name": "stdout",
     "output_type": "stream",
     "text": [
      "<class 'pymed.article.PubMedArticle'>\n",
      "{\n",
      "    \"abstract\": \"Fractures often occur in elderly patients. Osteoporosis caused by massive loss of calcium ions in the bones of elderly patients can easily lead to femoral fractures after suffering a low- and medium-energy injury. With the gradual entry of the aging society in China, the incidence of senile fracture is also gradually increasing. However, there is no report on the application of personalized narrative nursing to the mental health, cognitive function, and limb function recovery of elderly patients with fracture complicated with cerebrovascular accident, in order to enhance the cognitive level of elderly patients with fracture complicated with cerebrovascular accident. This study was specially conducted with a positive attitude toward the disease and improving the life quality. During July 2018 to July 2021, 80 elderly patients with fracture complicated with cerebrovascular accident cured were selected in our hospital. The patients were arbitrarily classified into an assigned control group (n = 40) and a study group (n = 40). The former received routine nursing, and the latter received personalized narrative nursing mode. The nursing satisfaction, functional independence scale (FIM), self-rating anxiety scale (SAS), self-rating depression scale (SDS), cognitive function, fracture healing time, length of hospital stays, and hospitalization expenses were compared. The study group had a satisfaction rate of 100.00%, while the control group had 87.50%. The nursing satisfaction of the study group was higher (P < .05). After 3 months of nursing, the FIM scores augmented. The FIM scores of upper and lower limbs in the study group were remarkably higher (P < .05). A decrease in SAS and SDS scores was observed. The SAS and SDS scores of the study group were lower (P < .05). Three months after discharge, the cognitive function score augmented. At 3 months after discharge, the study group had a higher cognitive function score (P < .05). The fracture healing time, length of stay, and cost of hospitalization in the study group were lower (P < .05). Personalized narrative nursing model can successfully enhance the mental health and cognitive function of elderly patients with fracture complicated with cerebrovascular accident, enhance the recovery of limb function, promote patients' nursing satisfaction, and alleviate the economic burden.\",\n",
      "    \"authors\": [\n",
      "        {\n",
      "            \"affiliation\": \"Department of Emergency, Tangshan Second Hospital, Tangshan, Hebei Province, China.\",\n",
      "            \"firstname\": \"Yurong\",\n",
      "            \"initials\": \"Y\",\n",
      "            \"lastname\": \"Wang\"\n",
      "        },\n",
      "        {\n",
      "            \"affiliation\": \"Department of Spine, The Second Hospital of Tangshan, Tangshan, Hebei Province, China.\",\n",
      "            \"firstname\": \"Fang\",\n",
      "            \"initials\": \"F\",\n",
      "            \"lastname\": \"Zhang\"\n",
      "        },\n",
      "        {\n",
      "            \"affiliation\": \"Department of Nursing, Tangshan Second Hospital, Tangshan, Hebei Province, China.\",\n",
      "            \"firstname\": \"Cuihua\",\n",
      "            \"initials\": \"C\",\n",
      "            \"lastname\": \"Li\"\n",
      "        }\n",
      "    ],\n",
      "    \"conclusions\": null,\n",
      "    \"copyrights\": \"Copyright \\u00a9 2024 the Author(s). Published by Wolters Kluwer Health, Inc.\",\n",
      "    \"doi\": \"10.1097/MD.0000000000036901\",\n",
      "    \"journal\": \"Medicine\",\n",
      "    \"keywords\": [],\n",
      "    \"methods\": null,\n",
      "    \"publication_date\": \"2024-01-19\",\n",
      "    \"pubmed_id\": \"38241550\\n35619601\\n35620586\\n35620840\\n35618694\\n35616512\\n35620037\\n35638902\\n35624354\\n35633487\\n35624422\\n35624225\\n35621280\\n35622161\\n35622951\\n35633091\\n35623075\\n35598918\\n35598919\\n35599714\\n35599708\\n35619162\\n35618854\\n35613557\\n35410789\",\n",
      "    \"results\": null,\n",
      "    \"title\": \"Effect of individualized narrative nursing mode on recovery of elderly patients with fracture complicated with cerebrovascular accident.\",\n",
      "    \"xml\": \"<Element 'PubmedArticle' at 0x0000021D98D74D10>\"\n",
      "}\n",
      "<class 'pymed.article.PubMedArticle'>\n",
      "{\n",
      "    \"abstract\": \"The surgical management of intertrochanter femur fracture in elderly patient is still under debate. Various implants can be utilised but prosthetic replacement is gaining popularity. This study was performed to evaluate the functional and clinical outcomes of cemented bipolar arthroplasty as a primary treatment for unstable intertrochanteric fracture in elderly patients (>\\u200970\\u00a0years).\\nThirty-seven patients with unstable intertrochanteric fracture in elderly patient (>\\u200970\\u00a0years) who underwent cemented bipolar hemiarthroplasty. Intra-operative and post-operative complications were noted; functional outcomes were assessed using Harris hip score (HHS). All patients were followed up for a minimum of 12\\u00a0months.\\nOverall 90% of patients has some minor or major intra or post-operative complication. One year mortality rate was 16% (6/37). Cardiopulmonary events were the most common life threatening incident. Mean fall in Haemoglobin was 1.6\\u00a0gm/dL. The average time for full weight bearing mobilisation with the help of walker was 2.8\\u2009\\u00b1\\u20091.2\\u00a0days (1-8\\u00a0days). The average duration of surgery was 58\\u2009\\u00b1\\u20096\\u00a0min (44-96\\u00a0min) with an average blood loss of 126\\u2009\\u00b1\\u200924\\u00a0mL (90-380\\u00a0mL). HHS at the end of 12\\u00a0months was 77.\\nThe use of bipolar hemiarthroplasty in senile patient with unstable hemiarthroplasty gives an advantage of early weight bearing. However, it is associated with risk of significant intra or post-operative morbidity due to intra-operative trauma, surgical time and blood loss during the surgery. Although hemiarthroplasty can be a single-time solution to the complexities of intertrochanter fracture in elderly patients but should be performed in selected patients only.\",\n",
      "    \"authors\": [\n",
      "        {\n",
      "            \"affiliation\": \"Department of Orthopaedics, Indus Hospital, Mohali, India.\",\n",
      "            \"firstname\": \"Bushu\",\n",
      "            \"initials\": \"B\",\n",
      "            \"lastname\": \"Harna\"\n",
      "        },\n",
      "        {\n",
      "            \"affiliation\": \"Department of Orthopaedics, IVY Hospital, Mohali, India. anil88gmch@gmail.com.\",\n",
      "            \"firstname\": \"Anil\",\n",
      "            \"initials\": \"A\",\n",
      "            \"lastname\": \"Kapoor\"\n",
      "        },\n",
      "        {\n",
      "            \"affiliation\": \"Department of Orthopaedics, Medical college Baroda and SSG Hospital, Vadodara, India.\",\n",
      "            \"firstname\": \"Tarun\",\n",
      "            \"initials\": \"T\",\n",
      "            \"lastname\": \"Verma\"\n",
      "        },\n",
      "        {\n",
      "            \"affiliation\": \"Department of Orthopaedics, Maulana Azad Medical College, New Delhi, India.\",\n",
      "            \"firstname\": \"Dhananjaya\",\n",
      "            \"initials\": \"D\",\n",
      "            \"lastname\": \"Sabat\"\n",
      "        }\n",
      "    ],\n",
      "    \"conclusions\": null,\n",
      "    \"copyrights\": \"\\u00a9 2024. The Author(s), under exclusive licence to Springer-Verlag France SAS, part of Springer Nature.\",\n",
      "    \"doi\": \"10.1007/s00590-023-03819-0\\n10.1186/s12891-022-05583-4\\n10.4297/najms.2010.2561\\n10.1007/BF02672518\\n10.3390/medicina57080763\\n10.5435/00124635-200811000-00007\\n10.18203/issn.2455-4510.IntJResOrthop20203978\\n10.20407/fmj.2019-022\\n10.1186/s13018-020-01943-9\\n10.1097/bot.0000000000001038\\n10.2106/jbjs.e.00215\\n10.1302/0301-620X.96B8.33644\\n10.2106/00004623-200105000-00001\\n10.1097/TA.0b013e31821c2ef2\\n10.1007/s00402-005-0021-5\\n10.1080/00016470310013662\\n10.1111/os.12532\\n10.3889/oamjms.2019.388\\n10.7759/cureus.39795\\n10.22271/ortho.2020.v6.i1p.1980\\n10.3389/fsurg.2022.904928\\n10.1016/j.ijscr.2017.04.027\\n10.1016/j.otsr.2021.102838\\n10.1007/s00590-011-0870-2\\n10.1177/21514593221118212\\n10.5371/hp.2015.27.3.152\\n10.25011/cim.v38i1.22577\\n10.1007/s00590-012-1104-y\\n10.5152/j.aott.2021.20071\\n10.5606/ehc.2020.72421\\n10.1016/j.injury.2011.11.008\\n10.1016/j.arth.2017.04.042\\n10.12998/wjcc.v9.i32.9878\",\n",
      "    \"journal\": \"European journal of orthopaedic surgery & traumatology : orthopedie traumatologie\",\n",
      "    \"keywords\": [\n",
      "        \"ASA grade\",\n",
      "        \"Blood loss\",\n",
      "        \"Cardiopulmonary event\",\n",
      "        \"Cemented bipolar hemiarthroplasty\",\n",
      "        \"Mortality\",\n",
      "        \"Unstable intertrochanter fracture\"\n",
      "    ],\n",
      "    \"methods\": null,\n",
      "    \"publication_date\": \"2024-01-19\",\n",
      "    \"pubmed_id\": \"38240826\\n35778710\\n22558568\\n28571221\\n9666945\\n34440969\\n18978289\\n35111533\\n29040233\\n25086117\\n22439243\\n16059696\\n37398806\\n35662821\\n28734187\\n33529729\\n27536619\\n25864998\\n33650505\\n32584716\\n29119891\\n22169013\\n34877326\",\n",
      "    \"results\": \"Overall 90% of patients has some minor or major intra or post-operative complication. One year mortality rate was 16% (6/37). Cardiopulmonary events were the most common life threatening incident. Mean fall in Haemoglobin was 1.6\\u00a0gm/dL. The average time for full weight bearing mobilisation with the help of walker was 2.8\\u2009\\u00b1\\u20091.2\\u00a0days (1-8\\u00a0days). The average duration of surgery was 58\\u2009\\u00b1\\u20096\\u00a0min (44-96\\u00a0min) with an average blood loss of 126\\u2009\\u00b1\\u200924\\u00a0mL (90-380\\u00a0mL). HHS at the end of 12\\u00a0months was 77.\",\n",
      "    \"title\": \"Cemented bipolar hemiarthroplasty for unstable intertrochanteric fracture in elderly patients over 70\\u00a0years: Boon or bane?\",\n",
      "    \"xml\": \"<Element 'PubmedArticle' at 0x0000021D98D96430>\"\n",
      "}\n",
      "<class 'pymed.article.PubMedArticle'>\n",
      "{\n",
      "    \"abstract\": \"Performing total hip arthroplasty (THA) after failed internal fixation of proximal femoral fractures (PFF) is known to be associated with high rates of complications. Dual mobility cups (DMC) are known to lower dislocation events in high-risk patients. Very few reports investigated the outcomes of THA using DMC following failure of internal fixation for PFF.\\nThis is a retrospective monocentric continuous study of 31 patients who underwent THA with DMC after failed internal fixation of PFF. The clinical assessment was based on the modified Harris hip score (mHHS) at the last follow-up. The complication rates and radiological analyses were recorded.\\nThe mean follow-up period was 5.96\\u00a0\\u00b1\\u00a04.2\\u00a0years. At the last follow-up, the mean mHHS was 92.9\\u00a0\\u00b1\\u00a09.1 with 71% of the patients describing their operated hip as a forgotten hip. No dislocation or aseptic loosening events were noted. One patient developed a septic loosening of the implant. No significant radiological changes were recorded. Sixteen stems (51.6%) were placed in a neutral position, 13 (42%) in valgus (2.74\\u00a0\\u00b1\\u00a01.72\\u00b0), and 2 (6.4%) in varus (6.94\\u00a0\\u00b1\\u00a02.02\\u00b0).\\nThis study emphasizes the advantage of using DMC following failed internal fixation of PFF in reducing dislocation and complication events in this high-risk population.\",\n",
      "    \"authors\": [\n",
      "        {\n",
      "            \"affiliation\": \"Department of Orthopedic Surgery, Lebanese American University Medical Center-Rizk Hospital, Lebanese American University School of Medicine, Beirut, Lebanon - Center of Evidence-based Anatomy, Sports & Orthopedic Research, Beirut, Lebanon.\",\n",
      "            \"firstname\": \"Chahine\",\n",
      "            \"initials\": \"C\",\n",
      "            \"lastname\": \"Assi\"\n",
      "        },\n",
      "        {\n",
      "            \"affiliation\": \"Department of Orthopedic Surgery, Lebanese American University Medical Center-Rizk Hospital, Lebanese American University School of Medicine, Beirut, Lebanon.\",\n",
      "            \"firstname\": \"Joeffroy\",\n",
      "            \"initials\": \"J\",\n",
      "            \"lastname\": \"Otayek\"\n",
      "        },\n",
      "        {\n",
      "            \"affiliation\": \"Department of Orthopedic Surgery, Lebanese American University Medical Center-Rizk Hospital, Lebanese American University School of Medicine, Beirut, Lebanon.\",\n",
      "            \"firstname\": \"Jad\",\n",
      "            \"initials\": \"J\",\n",
      "            \"lastname\": \"Mansour\"\n",
      "        },\n",
      "        {\n",
      "            \"affiliation\": \"Department of Orthopedic Surgery, Lebanese American University Medical Center-Rizk Hospital, Lebanese American University School of Medicine, Beirut, Lebanon.\",\n",
      "            \"firstname\": \"Jimmy\",\n",
      "            \"initials\": \"J\",\n",
      "            \"lastname\": \"Daher\"\n",
      "        },\n",
      "        {\n",
      "            \"affiliation\": \"Institut de Chirurgie Orthop\\u00e9dique, Lyon, France.\",\n",
      "            \"firstname\": \"Jacques\",\n",
      "            \"initials\": \"J\",\n",
      "            \"lastname\": \"Caton\"\n",
      "        },\n",
      "        {\n",
      "            \"affiliation\": \"Department of Orthopedic Surgery, Lebanese American University Medical Center-Rizk Hospital, Lebanese American University School of Medicine, Beirut, Lebanon.\",\n",
      "            \"firstname\": \"Camille\",\n",
      "            \"initials\": \"C\",\n",
      "            \"lastname\": \"Samaha\"\n",
      "        },\n",
      "        {\n",
      "            \"affiliation\": \"Department of Orthopedic Surgery, Lebanese American University Medical Center-Rizk Hospital, Lebanese American University School of Medicine, Beirut, Lebanon - Institut de Chirurgie Orthop\\u00e9dique, Lyon, France.\",\n",
      "            \"firstname\": \"Kaissar\",\n",
      "            \"initials\": \"K\",\n",
      "            \"lastname\": \"Yammine\"\n",
      "        }\n",
      "    ],\n",
      "    \"conclusions\": \"This study emphasizes the advantage of using DMC following failed internal fixation of PFF in reducing dislocation and complication events in this high-risk population.\",\n",
      "    \"copyrights\": \"\\u00a9 The Authors, published by EDP Sciences, 2024.\",\n",
      "    \"doi\": \"10.1051/sicotj/2023038\",\n",
      "    \"journal\": \"SICOT-J\",\n",
      "    \"keywords\": [\n",
      "        \"Dual mobility cup\",\n",
      "        \"Femoral neck fracture\",\n",
      "        \"Proximal femoral fracture\",\n",
      "        \"Total hip arthroplasty\"\n",
      "    ],\n",
      "    \"methods\": null,\n",
      "    \"publication_date\": \"2024-01-19\",\n",
      "    \"pubmed_id\": \"38240729\\n8288658\\n26748415\\n12429763\\n29305445\\n2584246\\n17063052\\n30922807\\n28116505\\n3809670\\n34824721\\n27990600\\n26419896\\n28074257\\n31758218\\n37085676\\n36675369\\n31875722\\n29469804\\n28074257\\n24444567\\n27826763\\n27888294\\n30459008\\n36648274\\n24026216\\n32409271\\n29908356\\n14673446\\n991504\\n477100\\n2303502\\n22682040\\n31146562\\n15067646\\n28681674\\n16948457\\n12728042\\n22146383\\n21798695\\n16877153\\n19550237\\n2355043\\n15850367\",\n",
      "    \"results\": \"The mean follow-up period was 5.96\\u00a0\\u00b1\\u00a04.2\\u00a0years. At the last follow-up, the mean mHHS was 92.9\\u00a0\\u00b1\\u00a09.1 with 71% of the patients describing their operated hip as a forgotten hip. No dislocation or aseptic loosening events were noted. One patient developed a septic loosening of the implant. No significant radiological changes were recorded. Sixteen stems (51.6%) were placed in a neutral position, 13 (42%) in valgus (2.74\\u00a0\\u00b1\\u00a01.72\\u00b0), and 2 (6.4%) in varus (6.94\\u00a0\\u00b1\\u00a02.02\\u00b0).\",\n",
      "    \"title\": \"Outcomes of total hip arthroplasty using dual mobility cups following failed internal fixation of proximal femoral fractures at a mean follow-up of 6\\u00a0years.\",\n",
      "    \"xml\": \"<Element 'PubmedArticle' at 0x0000021D98DA59E0>\"\n",
      "}\n",
      "<class 'pymed.article.PubMedArticle'>\n",
      "{\n",
      "    \"abstract\": \"Patients with nonalcoholic fatty liver disease (NAFLD) are reported to have a higher risk of osteoporosis/fractures; however, the causal relationship remains unclear.\\nPublicly available genome-wide association studies (GWASs) were used for Mendelian randomization (MR) analysis. GWASs of NAFLD and fractures were obtained from the FinnGen Consortium. GWASs of bone mineral density (BMD) were derived from a meta-analysis. GWASs of obesity, diabetes, liver function, and serum lipid-related metrics were used to clarify whether the accompanying NAFLD symptoms contributed to fractures. Moreover, two additional GWASs of NAFLD were applied.\\nA causal association was not observed between NAFLD and BMD using GWASs from the FinnGen Consortium. However, a causal relationship between NAFLD and femoral neck-BMD (FN-BMD), a suggestive relationship between fibrosis and FN-BMD, and between NAFLD and osteoporosis were identified in replication GWASs. Genetically proxied body mass index (BMI), high-density lipoprotein (HDL), and hip circumference increased the likelihood of lower limb fractures. The waist-to-hip ratio decreased, whereas glycated hemoglobin (HbA1C) and homeostasis model assessment of \\u03b2-cell function (HOMA-B) increased the risk of forearm fractures. Low-density lipoprotein (LDL) reduced, whereas HbA1C increased the incidence of femoral fractures. Alkaline phosphatase (ALP) raised the risk of foot fractures. However, after a multivariate MR analysis (adjusted for BMI), all the relationships became insignificant.\\nNAFLD caused reduced BMD, and genetically predicted HDL, LDL, HbA1C, HOMA-B, ALP, hip circumference, and waist-to-hip ratio causally increased the risk of fractures. BMI may mediate causal relationships. Larger GWASs are required to verify this finding.\",\n",
      "    \"authors\": [\n",
      "        {\n",
      "            \"affiliation\": \"Center of Infectious Diseases, West China Hospital, Sichuan University, Chengdu, 610041, China.\",\n",
      "            \"firstname\": \"Xiong\",\n",
      "            \"initials\": \"X\",\n",
      "            \"lastname\": \"Pei\"\n",
      "        },\n",
      "        {\n",
      "            \"affiliation\": \"Center of Infectious Diseases, West China Hospital, Sichuan University, Chengdu, 610041, China.\",\n",
      "            \"firstname\": \"Wei\",\n",
      "            \"initials\": \"W\",\n",
      "            \"lastname\": \"Jiang\"\n",
      "        },\n",
      "        {\n",
      "            \"affiliation\": \"Department of Critical Care Medicine, West China Hospital, Sichuan University, Chengdu, 610041, China.\",\n",
      "            \"firstname\": \"Lianchi\",\n",
      "            \"initials\": \"L\",\n",
      "            \"lastname\": \"Li\"\n",
      "        },\n",
      "        {\n",
      "            \"affiliation\": \"Center of Infectious Diseases, West China Hospital, Sichuan University, Chengdu, 610041, China.\",\n",
      "            \"firstname\": \"Qingmin\",\n",
      "            \"initials\": \"Q\",\n",
      "            \"lastname\": \"Zeng\"\n",
      "        },\n",
      "        {\n",
      "            \"affiliation\": \"Center of Infectious Diseases, West China Hospital, Sichuan University, Chengdu, 610041, China.\",\n",
      "            \"firstname\": \"Chang-Hai\",\n",
      "            \"initials\": \"CH\",\n",
      "            \"lastname\": \"Liu\"\n",
      "        },\n",
      "        {\n",
      "            \"affiliation\": \"Center of Infectious Diseases, West China Hospital, Sichuan University, Chengdu, 610041, China.\",\n",
      "            \"firstname\": \"Ming\",\n",
      "            \"initials\": \"M\",\n",
      "            \"lastname\": \"Wang\"\n",
      "        },\n",
      "        {\n",
      "            \"affiliation\": \"Center of Infectious Diseases, West China Hospital, Sichuan University, Chengdu, 610041, China.\",\n",
      "            \"firstname\": \"Enqiang\",\n",
      "            \"initials\": \"E\",\n",
      "            \"lastname\": \"Chen\"\n",
      "        },\n",
      "        {\n",
      "            \"affiliation\": \"Center of Infectious Diseases, West China Hospital, Sichuan University, Chengdu, 610041, China.\",\n",
      "            \"firstname\": \"Taoyou\",\n",
      "            \"initials\": \"T\",\n",
      "            \"lastname\": \"Zhou\"\n",
      "        },\n",
      "        {\n",
      "            \"affiliation\": \"Center of Infectious Diseases, West China Hospital, Sichuan University, Chengdu, 610041, China.\",\n",
      "            \"firstname\": \"Hong\",\n",
      "            \"initials\": \"H\",\n",
      "            \"lastname\": \"Tang\"\n",
      "        },\n",
      "        {\n",
      "            \"affiliation\": \"Center of Infectious Diseases, West China Hospital, Sichuan University, Chengdu, 610041, China.\",\n",
      "            \"firstname\": \"Dongbo\",\n",
      "            \"initials\": \"D\",\n",
      "            \"lastname\": \"Wu\"\n",
      "        }\n",
      "    ],\n",
      "    \"conclusions\": null,\n",
      "    \"copyrights\": \"\\u00a9 2024 Journal of Gastroenterology and Hepatology Foundation and John Wiley & Sons Australia, Ltd.\",\n",
      "    \"doi\": \"10.1111/jgh.16448\",\n",
      "    \"journal\": \"Journal of gastroenterology and hepatology\",\n",
      "    \"keywords\": [\n",
      "        \"Causal inference\",\n",
      "        \"Mendelian randomization\",\n",
      "        \"Metabolic syndrome\",\n",
      "        \"Nonalcoholic fatty liver disease\"\n",
      "    ],\n",
      "    \"methods\": null,\n",
      "    \"publication_date\": \"2024-01-19\",\n",
      "    \"pubmed_id\": \"38240493\",\n",
      "    \"results\": \"A causal association was not observed between NAFLD and BMD using GWASs from the FinnGen Consortium. However, a causal relationship between NAFLD and femoral neck-BMD (FN-BMD), a suggestive relationship between fibrosis and FN-BMD, and between NAFLD and osteoporosis were identified in replication GWASs. Genetically proxied body mass index (BMI), high-density lipoprotein (HDL), and hip circumference increased the likelihood of lower limb fractures. The waist-to-hip ratio decreased, whereas glycated hemoglobin (HbA1C) and homeostasis model assessment of \\u03b2-cell function (HOMA-B) increased the risk of forearm fractures. Low-density lipoprotein (LDL) reduced, whereas HbA1C increased the incidence of femoral fractures. Alkaline phosphatase (ALP) raised the risk of foot fractures. However, after a multivariate MR analysis (adjusted for BMI), all the relationships became insignificant.\",\n",
      "    \"title\": \"Mendelian-randomization study revealed causal relationship between nonalcoholic fatty liver disease and osteoporosis/fractures.\",\n",
      "    \"xml\": \"<Element 'PubmedArticle' at 0x0000021D98DC0C70>\"\n",
      "}\n",
      "<class 'pymed.article.PubMedArticle'>\n",
      "{\n",
      "    \"abstract\": \"Despite limited clinical scientific backing, an additional trochanteric stabilizing plate (TSP) has been advocated when treating unstable trochanteric fractures with a sliding hip screw (SHS). We aimed to explore whether the TSP would result in less post operative fracture motion, compared to SHS alone.\\nOverall, 31 patients with AO/OTA 31-A2 trochanteric fractures were randomized to either a SHS alone or a SHS with an additional TSP. To compare postoperative fracture motion, radiostereometric analysis (RSA) was performed before and after weightbearing, and then at four, eight, 12, 26, and 52 weeks. With the \\\"after weightbearing\\\" images as baseline, we calculated translations and rotations, including shortening and medialization of the femoral shaft.\\nSimilar migration profiles were observed in all directions during the course of healing. At one year, eight patients in the SHS group and 12 patients in the TSP group were available for analysis, finding a clinically non-relevant, and statistically non-significant, difference in total translation of 1 mm (95% confidence interval -4.7 to 2.9) in favour of the TSP group. In line with the migration data, no significant differences in clinical outcomes were found.\\nThe TSP did not influence the course of healing or postoperative fracture motion compared to SHS alone. Based on our results, routine use of the TSP in AO/OTA 31-A2 trochanteric fractures cannot be recommended. The TSP has been shown, in biomechanical studies, to increase stability in sliding hip screw constructs in both unstable and intermediate stable trochanteric fractures, but the clinical evidence is limited. This study showed no advantage of the TSP in unstable (AO 31-A2) fractures in elderly patients when fracture movement was evaluated with radiostereometric analysis.\",\n",
      "    \"authors\": [\n",
      "        {\n",
      "            \"affiliation\": \"Division of Orthopaedic Surgery, Oslo University Hospital, Oslo, Norway.\\nInstitute of Clinical Medicine, Faculty of Medicine, University of Oslo, Oslo, Norway.\",\n",
      "            \"firstname\": \"Carl E\",\n",
      "            \"initials\": \"CE\",\n",
      "            \"lastname\": \"Alm\"\n",
      "        },\n",
      "        {\n",
      "            \"affiliation\": \"Lovisenberg Diaconal Hospital, Oslo, Norway.\",\n",
      "            \"firstname\": \"Anders\",\n",
      "            \"initials\": \"A\",\n",
      "            \"lastname\": \"Karlsten\"\n",
      "        },\n",
      "        {\n",
      "            \"affiliation\": \"Division of Orthopaedic Surgery, Oslo University Hospital, Oslo, Norway.\\nInstitute of Clinical Medicine, Faculty of Medicine, University of Oslo, Oslo, Norway.\",\n",
      "            \"firstname\": \"Jan E\",\n",
      "            \"initials\": \"JE\",\n",
      "            \"lastname\": \"Madsen\"\n",
      "        },\n",
      "        {\n",
      "            \"affiliation\": \"Division of Orthopaedic Surgery, Oslo University Hospital, Oslo, Norway.\\nInstitute of Clinical Medicine, Faculty of Medicine, University of Oslo, Oslo, Norway.\",\n",
      "            \"firstname\": \"Lars\",\n",
      "            \"initials\": \"L\",\n",
      "            \"lastname\": \"Nordsletten\"\n",
      "        },\n",
      "        {\n",
      "            \"affiliation\": \"Division of Orthopaedic Surgery, Oslo University Hospital, Oslo, Norway.\\nFaculty of Health Sciences, Oslo Metropolitan University, Oslo, Norway.\",\n",
      "            \"firstname\": \"Jan E\",\n",
      "            \"initials\": \"JE\",\n",
      "            \"lastname\": \"Brattgjerd\"\n",
      "        },\n",
      "        {\n",
      "            \"affiliation\": \"Faculty of Health Sciences, Oslo Metropolitan University, Oslo, Norway.\\nOslo Centre of Biostatistics and Epidemiology, Research Support Services, Oslo, Norway.\",\n",
      "            \"firstname\": \"Are H\",\n",
      "            \"initials\": \"AH\",\n",
      "            \"lastname\": \"Pripp\"\n",
      "        },\n",
      "        {\n",
      "            \"affiliation\": \"Institute of Clinical Medicine, Faculty of Medicine, University of Oslo, Oslo, Norway.\\nDepartment of Orthopaedic Surgery, \\u00d8stfold Hospital Trust, Gr\\u00e5lum, Norway.\",\n",
      "            \"firstname\": \"Frede\",\n",
      "            \"initials\": \"F\",\n",
      "            \"lastname\": \"Frihagen\"\n",
      "        },\n",
      "        {\n",
      "            \"affiliation\": \"Division of Orthopaedic Surgery, Oslo University Hospital, Oslo, Norway.\\nInstitute of Clinical Medicine, Faculty of Medicine, University of Oslo, Oslo, Norway.\",\n",
      "            \"firstname\": \"Stephan M\",\n",
      "            \"initials\": \"SM\",\n",
      "            \"lastname\": \"R\\u00f6rhl\"\n",
      "        }\n",
      "    ],\n",
      "    \"conclusions\": \"The TSP did not influence the course of healing or postoperative fracture motion compared to SHS alone. Based on our results, routine use of the TSP in AO/OTA 31-A2 trochanteric fractures cannot be recommended. The TSP has been shown, in biomechanical studies, to increase stability in sliding hip screw constructs in both unstable and intermediate stable trochanteric fractures, but the clinical evidence is limited. This study showed no advantage of the TSP in unstable (AO 31-A2) fractures in elderly patients when fracture movement was evaluated with radiostereometric analysis.\",\n",
      "    \"copyrights\": \"\\u00a9 2024 Frihagen et al.\",\n",
      "    \"doi\": \"10.1302/2633-1462.51.BJO-2023-0082.R1\\n10.1097/BOT.0000000000001063\\n10.2106/JBJS.K.01497\\n10.1097/BOT.0000000000000713\\n10.1002/14651858.CD000339.pub3\\n10.1002/14651858.CD000093.pub6\\n10.1097/BOT.0000000000001283\\n10.1080/17453674.2021.1954305\\n10.1016/j.injury.2019.01.035\\n10.1097/BOT.0000000000001038\\n10.1155/2020/1896935\\n10.1186/s13018-020-02163-x\\n10.1007/s00068-019-01251-w\\n10.1186/1471-2474-14-1\\n10.1177/145749690409300310\\n10.1302/0301-620X.97B3.35077\\n10.1016/j.injury.2018.01.005\\n10.1097/00005131-200711101-00001\\n10.1007/s00264-012-1636-0\\n10.1080/17453670510041574\\n10.1302/0301-620X.95B8.31495\\n10.2106/00004623-199507000-00012\\n10.1016/0168-8510(90)90421-9\\n10.1111/j.1532-5415.1991.tb01616.x\\n10.1111/j.1365-2702.2005.01121.x\\n10.1177/1471082X0100100402\\n10.1097/00005131-199805000-00005\\n10.1016/j.injury.2015.03.007\\n10.1016/j.injury.2021.11.015\",\n",
      "    \"journal\": \"Bone & joint open\",\n",
      "    \"keywords\": [],\n",
      "    \"methods\": null,\n",
      "    \"publication_date\": \"2024-01-19\",\n",
      "    \"pubmed_id\": \"38240179\\n29256945\\n23389782\\n27763958\\n23450528\\n35080771\\n30239477\\n34296661\\n30797542\\n29040233\\n32923477\\n33413527\\n31673714\\n7502084\\n23281775\\n15544079\\n25737524\\n29397996\\n18277234\\n23011721\\n16195075\\n23908432\\n7608228\\n10109801\\n5783851\\n1991946\\n16000093\\n9619458\\n25890863\\n34789386\",\n",
      "    \"results\": \"Similar migration profiles were observed in all directions during the course of healing. At one year, eight patients in the SHS group and 12 patients in the TSP group were available for analysis, finding a clinically non-relevant, and statistically non-significant, difference in total translation of 1 mm (95% confidence interval -4.7 to 2.9) in favour of the TSP group. In line with the migration data, no significant differences in clinical outcomes were found.\",\n",
      "    \"title\": \"No benefit of the trochanteric stabilizing plate on loss of fracture reduction in AO/OTA 31-A2 trochanteric fractures.\",\n",
      "    \"xml\": \"<Element 'PubmedArticle' at 0x0000021D98DCA4D0>\"\n",
      "}\n"
     ]
    }
   ],
   "source": [
    "for article in results:\n",
    "\n",
    "    # Print the type of object we've found (can be either PubMedBookArticle or PubMedArticle)\n",
    "    print(type(article))\n",
    "\n",
    "    # Print a JSON representation of the object\n",
    "    print(article.toJSON())"
   ]
  },
  {
   "cell_type": "markdown",
   "metadata": {},
   "source": [
    "# For Whole PDF"
   ]
  },
  {
   "cell_type": "code",
   "execution_count": 7,
   "metadata": {
    "ExecuteTime": {
     "end_time": "2024-01-21T03:43:00.036713100Z",
     "start_time": "2024-01-21T03:42:59.980623Z"
    }
   },
   "outputs": [],
   "source": [
    "import entrezpy.conduit"
   ]
  },
  {
   "cell_type": "code",
   "execution_count": 8,
   "metadata": {
    "scrolled": true,
    "ExecuteTime": {
     "end_time": "2024-01-21T03:43:00.799975600Z",
     "start_time": "2024-01-21T03:43:00.795968100Z"
    }
   },
   "outputs": [],
   "source": [
    "c = entrezpy.conduit.Conduit('myemail')"
   ]
  },
  {
   "cell_type": "code",
   "execution_count": 9,
   "metadata": {
    "scrolled": true,
    "ExecuteTime": {
     "end_time": "2024-01-21T05:15:08.437624400Z",
     "start_time": "2024-01-21T03:43:01.574731700Z"
    }
   },
   "outputs": [
    {
     "name": "stderr",
     "output_type": "stream",
     "text": [
      "IOPub data rate exceeded.\n",
      "The notebook server will temporarily stop sending output\n",
      "to the client in order to avoid crashing it.\n",
      "To change this limit, set the config variable\n",
      "`--NotebookApp.iopub_data_rate_limit`.\n",
      "\n",
      "Current values:\n",
      "NotebookApp.iopub_data_rate_limit=1000000.0 (bytes/sec)\n",
      "NotebookApp.rate_limit_window=3.0 (secs)\n",
      "\n"
     ]
    },
    {
     "ename": "TimeoutError",
     "evalue": "The read operation timed out",
     "output_type": "error",
     "traceback": [
      "\u001B[1;31m---------------------------------------------------------------------------\u001B[0m",
      "\u001B[1;31mTimeoutError\u001B[0m                              Traceback (most recent call last)",
      "Cell \u001B[1;32mIn[9], line 4\u001B[0m\n\u001B[0;32m      2\u001B[0m sid \u001B[38;5;241m=\u001B[39m fetch_influenza\u001B[38;5;241m.\u001B[39madd_search({\u001B[38;5;124m'\u001B[39m\u001B[38;5;124mdb\u001B[39m\u001B[38;5;124m'\u001B[39m : \u001B[38;5;124m'\u001B[39m\u001B[38;5;124mnucleotide\u001B[39m\u001B[38;5;124m'\u001B[39m, \u001B[38;5;124m'\u001B[39m\u001B[38;5;124mterm\u001B[39m\u001B[38;5;124m'\u001B[39m : \u001B[38;5;124m'\u001B[39m\u001B[38;5;124mH3N2 [organism] AND HA\u001B[39m\u001B[38;5;124m'\u001B[39m, \u001B[38;5;124m'\u001B[39m\u001B[38;5;124mrettype\u001B[39m\u001B[38;5;124m'\u001B[39m:\u001B[38;5;124m'\u001B[39m\u001B[38;5;124mcount\u001B[39m\u001B[38;5;124m'\u001B[39m, \u001B[38;5;124m'\u001B[39m\u001B[38;5;124msort\u001B[39m\u001B[38;5;124m'\u001B[39m : \u001B[38;5;124m'\u001B[39m\u001B[38;5;124mDate Released\u001B[39m\u001B[38;5;124m'\u001B[39m, \u001B[38;5;124m'\u001B[39m\u001B[38;5;124mmindate\u001B[39m\u001B[38;5;124m'\u001B[39m: \u001B[38;5;241m2000\u001B[39m, \u001B[38;5;124m'\u001B[39m\u001B[38;5;124mmaxdate\u001B[39m\u001B[38;5;124m'\u001B[39m:\u001B[38;5;241m2019\u001B[39m, \u001B[38;5;124m'\u001B[39m\u001B[38;5;124mdatetype\u001B[39m\u001B[38;5;124m'\u001B[39m : \u001B[38;5;124m'\u001B[39m\u001B[38;5;124mpdat\u001B[39m\u001B[38;5;124m'\u001B[39m})\n\u001B[0;32m      3\u001B[0m fid \u001B[38;5;241m=\u001B[39m fetch_influenza\u001B[38;5;241m.\u001B[39madd_fetch({\u001B[38;5;124m'\u001B[39m\u001B[38;5;124mretmax\u001B[39m\u001B[38;5;124m'\u001B[39m : \u001B[38;5;241m10\u001B[39m, \u001B[38;5;124m'\u001B[39m\u001B[38;5;124mretmode\u001B[39m\u001B[38;5;124m'\u001B[39m : \u001B[38;5;124m'\u001B[39m\u001B[38;5;124mtext\u001B[39m\u001B[38;5;124m'\u001B[39m, \u001B[38;5;124m'\u001B[39m\u001B[38;5;124mrettype\u001B[39m\u001B[38;5;124m'\u001B[39m: \u001B[38;5;124m'\u001B[39m\u001B[38;5;124mfasta\u001B[39m\u001B[38;5;124m'\u001B[39m}, dependency\u001B[38;5;241m=\u001B[39msid)\n\u001B[1;32m----> 4\u001B[0m c\u001B[38;5;241m.\u001B[39mrun(fetch_influenza)\n",
      "File \u001B[1;32m~\\anaconda3\\Lib\\site-packages\\entrezpy\\conduit.py:191\u001B[0m, in \u001B[0;36mConduit.run\u001B[1;34m(self, pipeline)\u001B[0m\n\u001B[0;32m    189\u001B[0m   Conduit\u001B[38;5;241m.\u001B[39manalyzers[q\u001B[38;5;241m.\u001B[39mid] \u001B[38;5;241m=\u001B[39m \u001B[38;5;28mself\u001B[39m\u001B[38;5;241m.\u001B[39mlink(q)\n\u001B[0;32m    190\u001B[0m \u001B[38;5;28;01mif\u001B[39;00m q\u001B[38;5;241m.\u001B[39mfunction \u001B[38;5;241m==\u001B[39m \u001B[38;5;124m'\u001B[39m\u001B[38;5;124mefetch\u001B[39m\u001B[38;5;124m'\u001B[39m:\n\u001B[1;32m--> 191\u001B[0m   Conduit\u001B[38;5;241m.\u001B[39manalyzers[q\u001B[38;5;241m.\u001B[39mid] \u001B[38;5;241m=\u001B[39m \u001B[38;5;28mself\u001B[39m\u001B[38;5;241m.\u001B[39mfetch(q)\n\u001B[0;32m    192\u001B[0m \u001B[38;5;28;01mif\u001B[39;00m q\u001B[38;5;241m.\u001B[39mfunction \u001B[38;5;241m==\u001B[39m \u001B[38;5;124m'\u001B[39m\u001B[38;5;124mepost\u001B[39m\u001B[38;5;124m'\u001B[39m:\n\u001B[0;32m    193\u001B[0m   Conduit\u001B[38;5;241m.\u001B[39manalyzers[q\u001B[38;5;241m.\u001B[39mid] \u001B[38;5;241m=\u001B[39m \u001B[38;5;28mself\u001B[39m\u001B[38;5;241m.\u001B[39mpost(q)\n",
      "File \u001B[1;32m~\\anaconda3\\Lib\\site-packages\\entrezpy\\conduit.py:318\u001B[0m, in \u001B[0;36mConduit.fetch\u001B[1;34m(self, query, analyzer)\u001B[0m\n\u001B[0;32m    304\u001B[0m \u001B[38;5;250m\u001B[39m\u001B[38;5;124;03m\"\"\"uns an Efetch query. The Analyzer needs to be added to the quuery\u001B[39;00m\n\u001B[0;32m    305\u001B[0m \n\u001B[0;32m    306\u001B[0m \u001B[38;5;124;03m:param query: Conduit Query\u001B[39;00m\n\u001B[1;32m   (...)\u001B[0m\n\u001B[0;32m    311\u001B[0m \u001B[38;5;124;03m:rtype: :class:`entrezpy.efetch.efetch_analyzer.EfetchAnalyzer`\u001B[39;00m\n\u001B[0;32m    312\u001B[0m \u001B[38;5;124;03m\"\"\"\u001B[39;00m\n\u001B[0;32m    313\u001B[0m analyzer \u001B[38;5;241m=\u001B[39m query\u001B[38;5;241m.\u001B[39manalyzer \u001B[38;5;28;01mif\u001B[39;00m query\u001B[38;5;241m.\u001B[39manalyzer \u001B[38;5;28;01melse\u001B[39;00m analyzer()\n\u001B[0;32m    314\u001B[0m \u001B[38;5;28;01mreturn\u001B[39;00m entrezpy\u001B[38;5;241m.\u001B[39mefetch\u001B[38;5;241m.\u001B[39mefetcher\u001B[38;5;241m.\u001B[39mEfetcher(\u001B[38;5;28mself\u001B[39m\u001B[38;5;241m.\u001B[39mtool,\n\u001B[0;32m    315\u001B[0m                                          \u001B[38;5;28mself\u001B[39m\u001B[38;5;241m.\u001B[39memail,\n\u001B[0;32m    316\u001B[0m                                          \u001B[38;5;28mself\u001B[39m\u001B[38;5;241m.\u001B[39mapikey,\n\u001B[0;32m    317\u001B[0m                                          threads\u001B[38;5;241m=\u001B[39m\u001B[38;5;28mself\u001B[39m\u001B[38;5;241m.\u001B[39mthreads,\n\u001B[1;32m--> 318\u001B[0m                                          qid\u001B[38;5;241m=\u001B[39mquery\u001B[38;5;241m.\u001B[39mid)\u001B[38;5;241m.\u001B[39minquire(query\u001B[38;5;241m.\u001B[39mparameter, analyzer)\n",
      "File \u001B[1;32m~\\anaconda3\\Lib\\site-packages\\entrezpy\\efetch\\efetcher.py:74\u001B[0m, in \u001B[0;36mEfetcher.inquire\u001B[1;34m(self, parameter, analyzer)\u001B[0m\n\u001B[0;32m     71\u001B[0m     req_size \u001B[38;5;241m=\u001B[39m param\u001B[38;5;241m.\u001B[39mretmax \u001B[38;5;241m%\u001B[39m param\u001B[38;5;241m.\u001B[39mreqsize\n\u001B[0;32m     72\u001B[0m   \u001B[38;5;28mself\u001B[39m\u001B[38;5;241m.\u001B[39madd_request(entrezpy\u001B[38;5;241m.\u001B[39mefetch\u001B[38;5;241m.\u001B[39mefetch_request\u001B[38;5;241m.\u001B[39mEfetchRequest(\n\u001B[0;32m     73\u001B[0m     \u001B[38;5;28mself\u001B[39m\u001B[38;5;241m.\u001B[39meutil, param, (i\u001B[38;5;241m*\u001B[39mparam\u001B[38;5;241m.\u001B[39mreqsize), req_size), analyzer)\n\u001B[1;32m---> 74\u001B[0m \u001B[38;5;28mself\u001B[39m\u001B[38;5;241m.\u001B[39mrequest_pool\u001B[38;5;241m.\u001B[39mdrain()\n\u001B[0;32m     75\u001B[0m \u001B[38;5;28mself\u001B[39m\u001B[38;5;241m.\u001B[39mmonitor_stop()\n\u001B[0;32m     76\u001B[0m \u001B[38;5;28;01mif\u001B[39;00m \u001B[38;5;28mself\u001B[39m\u001B[38;5;241m.\u001B[39misGoodQuery():\n",
      "File \u001B[1;32m~\\anaconda3\\Lib\\site-packages\\entrezpy\\requester\\requestpool.py:87\u001B[0m, in \u001B[0;36mRequestPool.drain\u001B[1;34m(self)\u001B[0m\n\u001B[0;32m     85\u001B[0m \u001B[38;5;28;01melse\u001B[39;00m:\n\u001B[0;32m     86\u001B[0m   \u001B[38;5;28mself\u001B[39m\u001B[38;5;241m.\u001B[39mlogger\u001B[38;5;241m.\u001B[39mdebug(json\u001B[38;5;241m.\u001B[39mdumps({\u001B[38;5;124m'\u001B[39m\u001B[38;5;124mthreads\u001B[39m\u001B[38;5;124m'\u001B[39m:\u001B[38;5;124m'\u001B[39m\u001B[38;5;124mnone\u001B[39m\u001B[38;5;124m'\u001B[39m}))\n\u001B[1;32m---> 87\u001B[0m   \u001B[38;5;28mself\u001B[39m\u001B[38;5;241m.\u001B[39mrun_single()\n",
      "File \u001B[1;32m~\\anaconda3\\Lib\\site-packages\\entrezpy\\requester\\requestpool.py:101\u001B[0m, in \u001B[0;36mRequestPool.run_single\u001B[1;34m(self)\u001B[0m\n\u001B[0;32m     99\u001B[0m response \u001B[38;5;241m=\u001B[39m \u001B[38;5;28mself\u001B[39m\u001B[38;5;241m.\u001B[39mrun_one_request(request)\n\u001B[0;32m    100\u001B[0m \u001B[38;5;28;01mif\u001B[39;00m response:\n\u001B[1;32m--> 101\u001B[0m   analyzer\u001B[38;5;241m.\u001B[39mparse(response, request)\n\u001B[0;32m    102\u001B[0m \u001B[38;5;28;01melse\u001B[39;00m:\n\u001B[0;32m    103\u001B[0m   \u001B[38;5;28mself\u001B[39m\u001B[38;5;241m.\u001B[39mfailed_requests\u001B[38;5;241m.\u001B[39mappend(request)\n",
      "File \u001B[1;32m~\\anaconda3\\Lib\\site-packages\\entrezpy\\base\\analyzer.py:112\u001B[0m, in \u001B[0;36mEutilsAnalyzer.parse\u001B[1;34m(self, raw_response, request)\u001B[0m\n\u001B[0;32m    108\u001B[0m   \u001B[38;5;28;01mraise\u001B[39;00m \u001B[38;5;167;01mNotImplementedError\u001B[39;00m(\u001B[38;5;124mf\u001B[39m\u001B[38;5;124m\"\u001B[39m\u001B[38;5;124mUnknown format: \u001B[39m\u001B[38;5;132;01m{\u001B[39;00mrequest\u001B[38;5;241m.\u001B[39mretmode\u001B[38;5;132;01m}\u001B[39;00m\u001B[38;5;124m\"\u001B[39m)\n\u001B[0;32m    109\u001B[0m \u001B[38;5;66;03m#raw_response_decoded = raw_response.read().decode('utf-8')\u001B[39;00m\n\u001B[0;32m    110\u001B[0m \u001B[38;5;66;03m#self.logger.info((raw_response, raw_response.status, raw_response.read(), raw_response_decoded))\u001B[39;00m\n\u001B[0;32m    111\u001B[0m \u001B[38;5;66;03m#self.logger.info(json.dumps({'parsing':raw_response_decoded, 'req':request.dump()}))\u001B[39;00m\n\u001B[1;32m--> 112\u001B[0m response \u001B[38;5;241m=\u001B[39m \u001B[38;5;28mself\u001B[39m\u001B[38;5;241m.\u001B[39mconvert_response(raw_response\u001B[38;5;241m.\u001B[39mread()\u001B[38;5;241m.\u001B[39mdecode(\u001B[38;5;124m'\u001B[39m\u001B[38;5;124mutf-8\u001B[39m\u001B[38;5;124m'\u001B[39m), request)\n\u001B[0;32m    113\u001B[0m \u001B[38;5;28;01mif\u001B[39;00m \u001B[38;5;28mself\u001B[39m\u001B[38;5;241m.\u001B[39misErrorResponse(response, request):\n\u001B[0;32m    114\u001B[0m   \u001B[38;5;28mself\u001B[39m\u001B[38;5;241m.\u001B[39mhasErrorResponse \u001B[38;5;241m=\u001B[39m \u001B[38;5;28;01mTrue\u001B[39;00m\n",
      "File \u001B[1;32m~\\anaconda3\\Lib\\http\\client.py:460\u001B[0m, in \u001B[0;36mHTTPResponse.read\u001B[1;34m(self, amt)\u001B[0m\n\u001B[0;32m    457\u001B[0m     \u001B[38;5;28;01mreturn\u001B[39;00m \u001B[38;5;124mb\u001B[39m\u001B[38;5;124m\"\u001B[39m\u001B[38;5;124m\"\u001B[39m\n\u001B[0;32m    459\u001B[0m \u001B[38;5;28;01mif\u001B[39;00m \u001B[38;5;28mself\u001B[39m\u001B[38;5;241m.\u001B[39mchunked:\n\u001B[1;32m--> 460\u001B[0m     \u001B[38;5;28;01mreturn\u001B[39;00m \u001B[38;5;28mself\u001B[39m\u001B[38;5;241m.\u001B[39m_read_chunked(amt)\n\u001B[0;32m    462\u001B[0m \u001B[38;5;28;01mif\u001B[39;00m amt \u001B[38;5;129;01mis\u001B[39;00m \u001B[38;5;129;01mnot\u001B[39;00m \u001B[38;5;28;01mNone\u001B[39;00m:\n\u001B[0;32m    463\u001B[0m     \u001B[38;5;28;01mif\u001B[39;00m \u001B[38;5;28mself\u001B[39m\u001B[38;5;241m.\u001B[39mlength \u001B[38;5;129;01mis\u001B[39;00m \u001B[38;5;129;01mnot\u001B[39;00m \u001B[38;5;28;01mNone\u001B[39;00m \u001B[38;5;129;01mand\u001B[39;00m amt \u001B[38;5;241m>\u001B[39m \u001B[38;5;28mself\u001B[39m\u001B[38;5;241m.\u001B[39mlength:\n\u001B[0;32m    464\u001B[0m         \u001B[38;5;66;03m# clip the read to the \"end of response\"\u001B[39;00m\n",
      "File \u001B[1;32m~\\anaconda3\\Lib\\http\\client.py:583\u001B[0m, in \u001B[0;36mHTTPResponse._read_chunked\u001B[1;34m(self, amt)\u001B[0m\n\u001B[0;32m    581\u001B[0m \u001B[38;5;28;01mtry\u001B[39;00m:\n\u001B[0;32m    582\u001B[0m     \u001B[38;5;28;01mwhile\u001B[39;00m \u001B[38;5;28;01mTrue\u001B[39;00m:\n\u001B[1;32m--> 583\u001B[0m         chunk_left \u001B[38;5;241m=\u001B[39m \u001B[38;5;28mself\u001B[39m\u001B[38;5;241m.\u001B[39m_get_chunk_left()\n\u001B[0;32m    584\u001B[0m         \u001B[38;5;28;01mif\u001B[39;00m chunk_left \u001B[38;5;129;01mis\u001B[39;00m \u001B[38;5;28;01mNone\u001B[39;00m:\n\u001B[0;32m    585\u001B[0m             \u001B[38;5;28;01mbreak\u001B[39;00m\n",
      "File \u001B[1;32m~\\anaconda3\\Lib\\http\\client.py:566\u001B[0m, in \u001B[0;36mHTTPResponse._get_chunk_left\u001B[1;34m(self)\u001B[0m\n\u001B[0;32m    564\u001B[0m     \u001B[38;5;28mself\u001B[39m\u001B[38;5;241m.\u001B[39m_safe_read(\u001B[38;5;241m2\u001B[39m)  \u001B[38;5;66;03m# toss the CRLF at the end of the chunk\u001B[39;00m\n\u001B[0;32m    565\u001B[0m \u001B[38;5;28;01mtry\u001B[39;00m:\n\u001B[1;32m--> 566\u001B[0m     chunk_left \u001B[38;5;241m=\u001B[39m \u001B[38;5;28mself\u001B[39m\u001B[38;5;241m.\u001B[39m_read_next_chunk_size()\n\u001B[0;32m    567\u001B[0m \u001B[38;5;28;01mexcept\u001B[39;00m \u001B[38;5;167;01mValueError\u001B[39;00m:\n\u001B[0;32m    568\u001B[0m     \u001B[38;5;28;01mraise\u001B[39;00m IncompleteRead(\u001B[38;5;124mb\u001B[39m\u001B[38;5;124m'\u001B[39m\u001B[38;5;124m'\u001B[39m)\n",
      "File \u001B[1;32m~\\anaconda3\\Lib\\http\\client.py:526\u001B[0m, in \u001B[0;36mHTTPResponse._read_next_chunk_size\u001B[1;34m(self)\u001B[0m\n\u001B[0;32m    524\u001B[0m \u001B[38;5;28;01mdef\u001B[39;00m \u001B[38;5;21m_read_next_chunk_size\u001B[39m(\u001B[38;5;28mself\u001B[39m):\n\u001B[0;32m    525\u001B[0m     \u001B[38;5;66;03m# Read the next chunk size from the file\u001B[39;00m\n\u001B[1;32m--> 526\u001B[0m     line \u001B[38;5;241m=\u001B[39m \u001B[38;5;28mself\u001B[39m\u001B[38;5;241m.\u001B[39mfp\u001B[38;5;241m.\u001B[39mreadline(_MAXLINE \u001B[38;5;241m+\u001B[39m \u001B[38;5;241m1\u001B[39m)\n\u001B[0;32m    527\u001B[0m     \u001B[38;5;28;01mif\u001B[39;00m \u001B[38;5;28mlen\u001B[39m(line) \u001B[38;5;241m>\u001B[39m _MAXLINE:\n\u001B[0;32m    528\u001B[0m         \u001B[38;5;28;01mraise\u001B[39;00m LineTooLong(\u001B[38;5;124m\"\u001B[39m\u001B[38;5;124mchunk size\u001B[39m\u001B[38;5;124m\"\u001B[39m)\n",
      "File \u001B[1;32m~\\anaconda3\\Lib\\socket.py:706\u001B[0m, in \u001B[0;36mSocketIO.readinto\u001B[1;34m(self, b)\u001B[0m\n\u001B[0;32m    704\u001B[0m \u001B[38;5;28;01mwhile\u001B[39;00m \u001B[38;5;28;01mTrue\u001B[39;00m:\n\u001B[0;32m    705\u001B[0m     \u001B[38;5;28;01mtry\u001B[39;00m:\n\u001B[1;32m--> 706\u001B[0m         \u001B[38;5;28;01mreturn\u001B[39;00m \u001B[38;5;28mself\u001B[39m\u001B[38;5;241m.\u001B[39m_sock\u001B[38;5;241m.\u001B[39mrecv_into(b)\n\u001B[0;32m    707\u001B[0m     \u001B[38;5;28;01mexcept\u001B[39;00m timeout:\n\u001B[0;32m    708\u001B[0m         \u001B[38;5;28mself\u001B[39m\u001B[38;5;241m.\u001B[39m_timeout_occurred \u001B[38;5;241m=\u001B[39m \u001B[38;5;28;01mTrue\u001B[39;00m\n",
      "File \u001B[1;32m~\\anaconda3\\Lib\\ssl.py:1278\u001B[0m, in \u001B[0;36mSSLSocket.recv_into\u001B[1;34m(self, buffer, nbytes, flags)\u001B[0m\n\u001B[0;32m   1274\u001B[0m     \u001B[38;5;28;01mif\u001B[39;00m flags \u001B[38;5;241m!=\u001B[39m \u001B[38;5;241m0\u001B[39m:\n\u001B[0;32m   1275\u001B[0m         \u001B[38;5;28;01mraise\u001B[39;00m \u001B[38;5;167;01mValueError\u001B[39;00m(\n\u001B[0;32m   1276\u001B[0m           \u001B[38;5;124m\"\u001B[39m\u001B[38;5;124mnon-zero flags not allowed in calls to recv_into() on \u001B[39m\u001B[38;5;132;01m%s\u001B[39;00m\u001B[38;5;124m\"\u001B[39m \u001B[38;5;241m%\u001B[39m\n\u001B[0;32m   1277\u001B[0m           \u001B[38;5;28mself\u001B[39m\u001B[38;5;241m.\u001B[39m\u001B[38;5;18m__class__\u001B[39m)\n\u001B[1;32m-> 1278\u001B[0m     \u001B[38;5;28;01mreturn\u001B[39;00m \u001B[38;5;28mself\u001B[39m\u001B[38;5;241m.\u001B[39mread(nbytes, buffer)\n\u001B[0;32m   1279\u001B[0m \u001B[38;5;28;01melse\u001B[39;00m:\n\u001B[0;32m   1280\u001B[0m     \u001B[38;5;28;01mreturn\u001B[39;00m \u001B[38;5;28msuper\u001B[39m()\u001B[38;5;241m.\u001B[39mrecv_into(buffer, nbytes, flags)\n",
      "File \u001B[1;32m~\\anaconda3\\Lib\\ssl.py:1134\u001B[0m, in \u001B[0;36mSSLSocket.read\u001B[1;34m(self, len, buffer)\u001B[0m\n\u001B[0;32m   1132\u001B[0m \u001B[38;5;28;01mtry\u001B[39;00m:\n\u001B[0;32m   1133\u001B[0m     \u001B[38;5;28;01mif\u001B[39;00m buffer \u001B[38;5;129;01mis\u001B[39;00m \u001B[38;5;129;01mnot\u001B[39;00m \u001B[38;5;28;01mNone\u001B[39;00m:\n\u001B[1;32m-> 1134\u001B[0m         \u001B[38;5;28;01mreturn\u001B[39;00m \u001B[38;5;28mself\u001B[39m\u001B[38;5;241m.\u001B[39m_sslobj\u001B[38;5;241m.\u001B[39mread(\u001B[38;5;28mlen\u001B[39m, buffer)\n\u001B[0;32m   1135\u001B[0m     \u001B[38;5;28;01melse\u001B[39;00m:\n\u001B[0;32m   1136\u001B[0m         \u001B[38;5;28;01mreturn\u001B[39;00m \u001B[38;5;28mself\u001B[39m\u001B[38;5;241m.\u001B[39m_sslobj\u001B[38;5;241m.\u001B[39mread(\u001B[38;5;28mlen\u001B[39m)\n",
      "\u001B[1;31mTimeoutError\u001B[0m: The read operation timed out"
     ]
    }
   ],
   "source": [
    "fetch_influenza = c.new_pipeline()\n",
    "sid = fetch_influenza.add_search({'db' : 'nucleotide', 'term' : 'H3N2 [organism] AND HA', 'rettype':'count', 'sort' : 'Date Released', 'mindate': 2000, 'maxdate':2019, 'datetype' : 'pdat'})\n",
    "fid = fetch_influenza.add_fetch({'retmax' : 10, 'retmode' : 'text', 'rettype': 'fasta'}, dependency=sid)\n",
    "c.run(fetch_influenza)"
   ]
  },
  {
   "cell_type": "code",
   "execution_count": null,
   "metadata": {
    "scrolled": true,
    "ExecuteTime": {
     "end_time": "2024-01-21T05:15:08.439624400Z",
     "start_time": "2024-01-21T05:15:08.438623400Z"
    }
   },
   "outputs": [],
   "source": [
    "fetch_influenza = c.new_pipeline()\n",
    "sid = fetch_influenza.add_search({'db' : 'pubmed', 'term' : 'Femur Fracture', 'rettype':'count','datetype' : 'pdat'})\n",
    "fid = fetch_influenza.add_fetch({'retmax' : 5, 'retmode' : 'text', 'rettype': 'fasta'}, dependency=sid)\n",
    "a=c.run(fetch_influenza)"
   ]
  },
  {
   "cell_type": "code",
   "execution_count": null,
   "metadata": {
    "ExecuteTime": {
     "start_time": "2024-01-21T05:15:08.442671400Z"
    }
   },
   "outputs": [],
   "source": [
    "from Bio import Entrez\n",
    "\n",
    "def search(query):\n",
    "    Entrez.email = 'your.email@example.com'\n",
    "    handle = Entrez.esearch(db='pubmed', \n",
    "                            sort='relevance', \n",
    "                            retmax='20',\n",
    "                            retmode='xml', \n",
    "                            term=query)\n",
    "    results = Entrez.read(handle)\n",
    "    return results\n",
    "\n",
    "def fetch_details(id_list):\n",
    "    ids = ','.join(id_list)\n",
    "    Entrez.email = 'your.email@example.com'\n",
    "    handle = Entrez.efetch(db='pubmed',\n",
    "                           retmode='xml',\n",
    "                           id=ids)\n",
    "    results = Entrez.read(handle)\n",
    "    return results\n",
    "\n",
    "if __name__ == '__main__':\n",
    "    results = search('fever')\n",
    "    id_list = results['IdList']\n",
    "    papers = fetch_details(id_list)\n",
    "    for i, paper in enumerate(papers):\n",
    "        print(\"%d) %s\" % (i+1, paper['MedlineCitation']['Article']['ArticleTitle']))"
   ]
  },
  {
   "cell_type": "code",
   "execution_count": null,
   "metadata": {
    "ExecuteTime": {
     "start_time": "2024-01-21T05:15:08.445667900Z"
    }
   },
   "outputs": [],
   "source": [
    "import Bio"
   ]
  },
  {
   "cell_type": "code",
   "execution_count": null,
   "metadata": {},
   "outputs": [],
   "source": []
  }
 ],
 "metadata": {
  "kernelspec": {
   "display_name": "Python 3",
   "language": "python",
   "name": "python3"
  },
  "language_info": {
   "codemirror_mode": {
    "name": "ipython",
    "version": 3
   },
   "file_extension": ".py",
   "mimetype": "text/x-python",
   "name": "python",
   "nbconvert_exporter": "python",
   "pygments_lexer": "ipython3",
   "version": "3.7.4"
  }
 },
 "nbformat": 4,
 "nbformat_minor": 2
}
