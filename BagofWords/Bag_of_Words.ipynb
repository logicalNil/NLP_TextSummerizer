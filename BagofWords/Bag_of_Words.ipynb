{
 "cells": [
  {
   "cell_type": "code",
   "execution_count": 1,
   "metadata": {
    "ExecuteTime": {
     "end_time": "2024-01-23T02:06:00.054810100Z",
     "start_time": "2024-01-23T02:05:57.495096400Z"
    }
   },
   "outputs": [],
   "source": [
    "import pandas as pd\n",
    "import numpy as np\n",
    "from sklearn.model_selection import train_test_split\n",
    "from sklearn.metrics import classification_report"
   ]
  },
  {
   "cell_type": "code",
   "execution_count": 4,
   "metadata": {
    "ExecuteTime": {
     "end_time": "2024-01-23T02:07:13.492469800Z",
     "start_time": "2024-01-23T02:07:13.446836900Z"
    }
   },
   "outputs": [],
   "source": [
    "mail = pd.read_csv(\"spam_data.csv\")"
   ]
  },
  {
   "cell_type": "code",
   "execution_count": 5,
   "metadata": {
    "ExecuteTime": {
     "end_time": "2024-01-23T02:07:14.506920200Z",
     "start_time": "2024-01-23T02:07:14.494980800Z"
    }
   },
   "outputs": [
    {
     "data": {
      "text/plain": "  Category                                            Message\n0      ham  Go until jurong point, crazy.. Available only ...\n1      ham                      Ok lar... Joking wif u oni...\n2     spam  Free entry in 2 a wkly comp to win FA Cup fina...\n3      ham  U dun say so early hor... U c already then say...\n4      ham  Nah I don't think he goes to usf, he lives aro...",
      "text/html": "<div>\n<style scoped>\n    .dataframe tbody tr th:only-of-type {\n        vertical-align: middle;\n    }\n\n    .dataframe tbody tr th {\n        vertical-align: top;\n    }\n\n    .dataframe thead th {\n        text-align: right;\n    }\n</style>\n<table border=\"1\" class=\"dataframe\">\n  <thead>\n    <tr style=\"text-align: right;\">\n      <th></th>\n      <th>Category</th>\n      <th>Message</th>\n    </tr>\n  </thead>\n  <tbody>\n    <tr>\n      <th>0</th>\n      <td>ham</td>\n      <td>Go until jurong point, crazy.. Available only ...</td>\n    </tr>\n    <tr>\n      <th>1</th>\n      <td>ham</td>\n      <td>Ok lar... Joking wif u oni...</td>\n    </tr>\n    <tr>\n      <th>2</th>\n      <td>spam</td>\n      <td>Free entry in 2 a wkly comp to win FA Cup fina...</td>\n    </tr>\n    <tr>\n      <th>3</th>\n      <td>ham</td>\n      <td>U dun say so early hor... U c already then say...</td>\n    </tr>\n    <tr>\n      <th>4</th>\n      <td>ham</td>\n      <td>Nah I don't think he goes to usf, he lives aro...</td>\n    </tr>\n  </tbody>\n</table>\n</div>"
     },
     "execution_count": 5,
     "metadata": {},
     "output_type": "execute_result"
    }
   ],
   "source": [
    "mail.head()"
   ]
  },
  {
   "cell_type": "code",
   "execution_count": 6,
   "metadata": {
    "ExecuteTime": {
     "end_time": "2024-01-23T02:07:15.268246Z",
     "start_time": "2024-01-23T02:07:15.255307400Z"
    }
   },
   "outputs": [
    {
     "data": {
      "text/plain": "ham     4825\nspam     747\nName: Category, dtype: int64"
     },
     "execution_count": 6,
     "metadata": {},
     "output_type": "execute_result"
    }
   ],
   "source": [
    "mail.Category.value_counts()"
   ]
  },
  {
   "cell_type": "code",
   "execution_count": 7,
   "metadata": {
    "ExecuteTime": {
     "end_time": "2024-01-23T02:07:15.970951400Z",
     "start_time": "2024-01-23T02:07:15.941783600Z"
    }
   },
   "outputs": [],
   "source": [
    "mail[\"spam\"] = mail[\"Category\"].apply(lambda x: 1 if x == \"spam\" else 0)"
   ]
  },
  {
   "cell_type": "code",
   "execution_count": 8,
   "metadata": {
    "ExecuteTime": {
     "end_time": "2024-01-23T02:07:16.437821Z",
     "start_time": "2024-01-23T02:07:16.429532Z"
    }
   },
   "outputs": [
    {
     "data": {
      "text/plain": "  Category                                            Message  spam\n0      ham  Go until jurong point, crazy.. Available only ...     0\n1      ham                      Ok lar... Joking wif u oni...     0\n2     spam  Free entry in 2 a wkly comp to win FA Cup fina...     1\n3      ham  U dun say so early hor... U c already then say...     0\n4      ham  Nah I don't think he goes to usf, he lives aro...     0",
      "text/html": "<div>\n<style scoped>\n    .dataframe tbody tr th:only-of-type {\n        vertical-align: middle;\n    }\n\n    .dataframe tbody tr th {\n        vertical-align: top;\n    }\n\n    .dataframe thead th {\n        text-align: right;\n    }\n</style>\n<table border=\"1\" class=\"dataframe\">\n  <thead>\n    <tr style=\"text-align: right;\">\n      <th></th>\n      <th>Category</th>\n      <th>Message</th>\n      <th>spam</th>\n    </tr>\n  </thead>\n  <tbody>\n    <tr>\n      <th>0</th>\n      <td>ham</td>\n      <td>Go until jurong point, crazy.. Available only ...</td>\n      <td>0</td>\n    </tr>\n    <tr>\n      <th>1</th>\n      <td>ham</td>\n      <td>Ok lar... Joking wif u oni...</td>\n      <td>0</td>\n    </tr>\n    <tr>\n      <th>2</th>\n      <td>spam</td>\n      <td>Free entry in 2 a wkly comp to win FA Cup fina...</td>\n      <td>1</td>\n    </tr>\n    <tr>\n      <th>3</th>\n      <td>ham</td>\n      <td>U dun say so early hor... U c already then say...</td>\n      <td>0</td>\n    </tr>\n    <tr>\n      <th>4</th>\n      <td>ham</td>\n      <td>Nah I don't think he goes to usf, he lives aro...</td>\n      <td>0</td>\n    </tr>\n  </tbody>\n</table>\n</div>"
     },
     "execution_count": 8,
     "metadata": {},
     "output_type": "execute_result"
    }
   ],
   "source": [
    "mail.head()"
   ]
  },
  {
   "cell_type": "code",
   "execution_count": 9,
   "metadata": {
    "ExecuteTime": {
     "end_time": "2024-01-23T02:07:16.736637900Z",
     "start_time": "2024-01-23T02:07:16.687614600Z"
    }
   },
   "outputs": [
    {
     "data": {
      "text/plain": "(5572, 3)"
     },
     "execution_count": 9,
     "metadata": {},
     "output_type": "execute_result"
    }
   ],
   "source": [
    "mail.shape"
   ]
  },
  {
   "cell_type": "code",
   "execution_count": 10,
   "metadata": {
    "ExecuteTime": {
     "end_time": "2024-01-23T02:07:16.910695600Z",
     "start_time": "2024-01-23T02:07:16.869325400Z"
    }
   },
   "outputs": [],
   "source": [
    "X_train, X_test, y_train, y_test = train_test_split(mail.Message, mail.spam, test_size = 0.2)"
   ]
  },
  {
   "cell_type": "code",
   "execution_count": 11,
   "metadata": {
    "ExecuteTime": {
     "end_time": "2024-01-23T02:07:17.004046800Z",
     "start_time": "2024-01-23T02:07:16.990267100Z"
    }
   },
   "outputs": [
    {
     "data": {
      "text/plain": "((4457,), (1115,))"
     },
     "execution_count": 11,
     "metadata": {},
     "output_type": "execute_result"
    }
   ],
   "source": [
    "X_train.shape, X_test.shape"
   ]
  },
  {
   "cell_type": "code",
   "execution_count": 12,
   "metadata": {
    "ExecuteTime": {
     "end_time": "2024-01-23T02:07:17.149808700Z",
     "start_time": "2024-01-23T02:07:17.140353800Z"
    }
   },
   "outputs": [
    {
     "data": {
      "text/plain": "pandas.core.series.Series"
     },
     "execution_count": 12,
     "metadata": {},
     "output_type": "execute_result"
    }
   ],
   "source": [
    "type(X_train)"
   ]
  },
  {
   "cell_type": "code",
   "execution_count": 13,
   "metadata": {
    "ExecuteTime": {
     "end_time": "2024-01-23T02:07:17.335589200Z",
     "start_time": "2024-01-23T02:07:17.297884700Z"
    }
   },
   "outputs": [
    {
     "data": {
      "text/plain": "3891    Double Mins & 1000 txts on Orange tariffs. Lat...\n4145     That's a shame! Maybe cld meet for few hrs tomo?\n3788                          WHORE YOU ARE UNBELIEVABLE.\n4532    I wish things were different. I wonder when i ...\n4964                   I want to see your pretty pussy...\nName: Message, dtype: object"
     },
     "execution_count": 13,
     "metadata": {},
     "output_type": "execute_result"
    }
   ],
   "source": [
    "X_train[:5]"
   ]
  },
  {
   "cell_type": "code",
   "execution_count": 14,
   "metadata": {
    "ExecuteTime": {
     "end_time": "2024-01-23T02:07:17.494400800Z",
     "start_time": "2024-01-23T02:07:17.444238600Z"
    }
   },
   "outputs": [
    {
     "data": {
      "text/plain": "pandas.core.series.Series"
     },
     "execution_count": 14,
     "metadata": {},
     "output_type": "execute_result"
    }
   ],
   "source": [
    "type(y_train)"
   ]
  },
  {
   "cell_type": "code",
   "execution_count": 15,
   "metadata": {
    "scrolled": true,
    "ExecuteTime": {
     "end_time": "2024-01-23T02:07:17.711769700Z",
     "start_time": "2024-01-23T02:07:17.617353300Z"
    }
   },
   "outputs": [
    {
     "data": {
      "text/plain": "3891    1\n4145    0\n3788    0\n4532    0\n4964    0\nName: spam, dtype: int64"
     },
     "execution_count": 15,
     "metadata": {},
     "output_type": "execute_result"
    }
   ],
   "source": [
    "y_train[:5]"
   ]
  },
  {
   "cell_type": "code",
   "execution_count": 16,
   "metadata": {
    "ExecuteTime": {
     "end_time": "2024-01-23T02:07:17.831097200Z",
     "start_time": "2024-01-23T02:07:17.787495800Z"
    }
   },
   "outputs": [
    {
     "data": {
      "text/plain": "numpy.ndarray"
     },
     "execution_count": 16,
     "metadata": {},
     "output_type": "execute_result"
    }
   ],
   "source": [
    "type(X_train.values)"
   ]
  },
  {
   "cell_type": "markdown",
   "metadata": {},
   "source": [
    "<p>Bag Of words</p>"
   ]
  },
  {
   "cell_type": "code",
   "execution_count": 17,
   "metadata": {
    "ExecuteTime": {
     "end_time": "2024-01-23T02:07:20.073159600Z",
     "start_time": "2024-01-23T02:07:20.033098900Z"
    }
   },
   "outputs": [],
   "source": [
    "from sklearn.feature_extraction.text import CountVectorizer"
   ]
  },
  {
   "cell_type": "code",
   "execution_count": 18,
   "metadata": {
    "ExecuteTime": {
     "end_time": "2024-01-23T02:07:21.149322700Z",
     "start_time": "2024-01-23T02:07:21.118575500Z"
    }
   },
   "outputs": [],
   "source": [
    "cv = CountVectorizer()\n"
   ]
  },
  {
   "cell_type": "code",
   "execution_count": 19,
   "metadata": {
    "ExecuteTime": {
     "end_time": "2024-01-23T02:07:22.155453500Z",
     "start_time": "2024-01-23T02:07:22.098452100Z"
    }
   },
   "outputs": [
    {
     "data": {
      "text/plain": "<4457x7811 sparse matrix of type '<class 'numpy.int64'>'\n\twith 59072 stored elements in Compressed Sparse Row format>"
     },
     "execution_count": 19,
     "metadata": {},
     "output_type": "execute_result"
    }
   ],
   "source": [
    "X_train_cv = cv.fit_transform(X_train.values)\n",
    "X_train_cv"
   ]
  },
  {
   "cell_type": "code",
   "execution_count": 20,
   "metadata": {
    "ExecuteTime": {
     "end_time": "2024-01-23T02:07:22.691653Z",
     "start_time": "2024-01-23T02:07:22.634111Z"
    }
   },
   "outputs": [
    {
     "data": {
      "text/plain": "array([0, 0, 0, ..., 0, 0, 0], dtype=int64)"
     },
     "execution_count": 20,
     "metadata": {},
     "output_type": "execute_result"
    }
   ],
   "source": [
    "X_train_cv.toarray()[:2][0]"
   ]
  },
  {
   "cell_type": "code",
   "execution_count": 21,
   "metadata": {
    "ExecuteTime": {
     "end_time": "2024-01-23T02:07:22.980094900Z",
     "start_time": "2024-01-23T02:07:22.967163100Z"
    }
   },
   "outputs": [
    {
     "data": {
      "text/plain": "(4457, 7811)"
     },
     "execution_count": 21,
     "metadata": {},
     "output_type": "execute_result"
    }
   ],
   "source": [
    "X_train_cv.shape"
   ]
  },
  {
   "cell_type": "code",
   "execution_count": 22,
   "metadata": {
    "ExecuteTime": {
     "end_time": "2024-01-23T02:07:23.604174500Z",
     "start_time": "2024-01-23T02:07:23.566897400Z"
    }
   },
   "outputs": [
    {
     "data": {
      "text/plain": "{'double': 2445,\n 'mins': 4557,\n '1000': 264,\n 'txts': 7164,\n 'on': 5008,\n 'orange': 5051,\n 'tariffs': 6776,\n 'latest': 4086,\n 'motorola': 4664,\n 'sonyericsson': 6386,\n 'nokia': 4876,\n 'with': 7614,\n 'bluetooth': 1436,\n 'free': 3013,\n 'call': 1631,\n 'mobileupd8': 4611,\n '08000839402': 49,\n 'or': 5047,\n 'call2optout': 1633,\n 'hf8': 3469,\n 'that': 6871,\n 'shame': 6135,\n 'maybe': 4460,\n 'cld': 1857,\n 'meet': 4484,\n 'for': 2968,\n 'few': 2849,\n 'hrs': 3573,\n 'tomo': 7016,\n 'whore': 7566,\n 'you': 7773,\n 'are': 1071,\n 'unbelievable': 7198,\n 'wish': 7606,\n 'things': 6906,\n 'were': 7525,\n 'different': 2330,\n 'wonder': 7645,\n 'when': 7546,\n 'will': 7583,\n 'be': 1295,\n 'able': 777,\n 'to': 6992,\n 'show': 6200,\n 'how': 3560,\n 'much': 4700,\n 'value': 7314,\n 'pls': 5331,\n 'continue': 2013,\n 'the': 6875,\n 'brisk': 1544,\n 'walks': 7431,\n 'no': 4867,\n 'drugs': 2489,\n 'without': 7617,\n 'askin': 1122,\n 'me': 4466,\n 'please': 5325,\n 'and': 983,\n 'find': 2880,\n 'laugh': 4089,\n 'about': 779,\n 'love': 4290,\n 'dearly': 2212,\n 'want': 7444,\n 'see': 6055,\n 'your': 7778,\n 'pretty': 5472,\n 'pussy': 5582,\n 'warner': 7453,\n 'village': 7365,\n '83118': 674,\n 'colin': 1913,\n 'farrell': 2807,\n 'in': 3685,\n 'swat': 6714,\n 'this': 6916,\n 'wkend': 7623,\n 'get': 3150,\n 'med': 4479,\n 'popcorn': 5383,\n 'just': 3926,\n 'msg': 4682,\n 'ticket': 6951,\n 'kiosk': 3999,\n 'valid': 7311,\n '12': 286,\n 'reply': 5791,\n 'sony': 6385,\n 'mre': 4678,\n 'film': 2874,\n 'offers': 4973,\n 'll': 4222,\n 'not': 4899,\n 'rcv': 5658,\n 'any': 1017,\n 'more': 4647,\n 'msgs': 4688,\n 'from': 3051,\n 'chat': 1766,\n 'svc': 6707,\n 'hardcore': 3380,\n 'services': 6103,\n 'text': 6851,\n 'go': 3193,\n '69988': 609,\n 'if': 3644,\n 'nothing': 4904,\n 'must': 4726,\n 'age': 886,\n 'verify': 7339,\n 'yr': 7787,\n 'network': 4818,\n 'try': 7120,\n 'again': 884,\n 'congrats': 1988,\n 'great': 3271,\n 'wanted': 7446,\n 'tell': 6818,\n 'score': 6015,\n 'cos': 2042,\n 'it': 3803,\n 'might': 4534,\n 'make': 4384,\n 'relax': 5749,\n 'but': 1605,\n 'its': 3811,\n 'motivating': 4661,\n 'so': 6350,\n 'thanks': 6866,\n 'sharing': 6144,\n 'lt': 4312,\n 'gt': 3298,\n 'rs': 5907,\n 'da': 2157,\n 'do': 2394,\n 'have': 3403,\n 'comin': 1934,\n 'fetch': 2847,\n 'us': 7282,\n 'oredi': 5059,\n 'objection': 4951,\n 'my': 4732,\n 'bf': 1363,\n 'coming': 1935,\n 'babe': 1206,\n 'fucking': 3061,\n 'too': 7031,\n 'know': 4013,\n 'fuck': 3058,\n 'was': 7457,\n 'good': 3217,\n 'hear': 3424,\n 'voice': 7386,\n 'need': 4792,\n 'crave': 2083,\n 'can': 1654,\n 'enough': 2633,\n 'adore': 846,\n 'ahmad': 899,\n 'kisses': 4002,\n 'our': 5080,\n 'customer': 2144,\n 'service': 6102,\n 'representative': 5796,\n '0800': 46,\n '169': 327,\n '6031': 581,\n 'between': 1359,\n '10am': 271,\n '9pm': 755,\n 'as': 1109,\n 'won': 7642,\n 'guaranteed': 3301,\n 'cash': 1698,\n '5000': 547,\n 'prize': 5495,\n 'sorry': 6395,\n 'later': 4085,\n 'also': 950,\n 'awesome': 1192,\n 'don': 2426,\n 'regular': 5743,\n 'unless': 7236,\n 'her': 3459,\n 'person': 5237,\n 'always': 955,\n 'looking': 4261,\n 'an': 979,\n 'excuse': 2729,\n 'city': 1843,\n 'accordingly': 804,\n 'repeat': 5784,\n 'word': 7655,\n 'ok': 4988,\n 'mobile': 4607,\n 'phone': 5262,\n 'send': 6083,\n 'doing': 2418,\n 'then': 6887,\n 'having': 3409,\n 'dinner': 2346,\n 'continent': 2012,\n 'what': 7539,\n 'address': 837,\n 'is': 3791,\n 'reverse': 5841,\n 'cheating': 1774,\n 'mathematics': 4444,\n 'many': 4409,\n 'happy': 3378,\n 'returns': 5836,\n 'of': 4964,\n 'day': 2197,\n 'birthday': 1391,\n 'hard': 3379,\n 'true': 7112,\n 'amp': 973,\n 'express': 2760,\n 'someone': 6368,\n 'hurt': 3603,\n 'they': 6900,\n 'leave': 4119,\n 'seperated': 6095,\n '〨ud': 7810,\n 'evening': 2690,\n 'finish': 2885,\n 'at': 1142,\n 'we': 7481,\n 'soon': 6388,\n 'princess': 5484,\n 'ttyl': 7129,\n 'oh': 4983,\n 'didnt': 2322,\n 'meant': 4473,\n 'yep': 7756,\n 'am': 957,\n 'baby': 1209,\n 'jontin': 3899,\n 'dear': 2209,\n 'sat': 5979,\n 'pray': 5443,\n 'felt': 2844,\n 'sms': 6330,\n 'some': 6365,\n 'time': 6960,\n 'well': 7517,\n 'there': 6893,\n 'still': 6550,\n 'bit': 1393,\n 'left': 4125,\n 'guys': 3321,\n 'tonight': 7026,\n 'come': 1930,\n 'tomorrow': 7018,\n 'calls': 1645,\n 'messages': 4519,\n 'missed': 4573,\n 'feel': 2834,\n 'like': 4171,\n 'dick': 2316,\n 'because': 1305,\n 'keep': 3961,\n 'sleeping': 6290,\n 'through': 6936,\n 'texts': 6860,\n 'facebook': 2774,\n 'sup': 6677,\n 'town': 7060,\n 'mum': 4709,\n 'ask': 1119,\n 'buy': 1608,\n 'food': 2958,\n 'home': 3514,\n 'called': 1638,\n 'one': 5014,\n 'pick': 5275,\n 'up': 7251,\n 'both': 1474,\n 'them': 6884,\n 'already': 947,\n 'said': 5947,\n 'hi': 3472,\n 'urgnt': 7274,\n 'whats': 7541,\n 'problem': 5502,\n 'work': 7657,\n 'other': 5074,\n 'least': 4117,\n 'wating': 7473,\n 'yes': 7758,\n 'all': 934,\n 'innocent': 3730,\n 'fun': 3071,\n 'sure': 6692,\n 'thing': 6905,\n 'big': 1372,\n 'man': 4394,\n 'hockey': 3504,\n 'elections': 2588,\n 'shouldn': 6196,\n 'longer': 4254,\n 'than': 6862,\n 'hour': 3552,\n 'though': 6925,\n 'hav': 3399,\n 'almost': 943,\n 'reached': 5664,\n 'unable': 7197,\n 'connect': 1991,\n 'new': 4827,\n 'message': 4517,\n '08718738034': 154,\n 'blackberry': 1401,\n 'bold2': 1449,\n 'nigeria': 4845,\n 'im': 3661,\n 'now': 4912,\n 'wanna': 7442,\n 'something': 6372,\n 'xx': 7720,\n 'prabha': 5427,\n 'soryda': 6402,\n 'realy': 5683,\n 'frm': 3040,\n 'heart': 3428,\n 'sory': 6401,\n 'cant': 1665,\n 'believe': 1336,\n 'morning': 4651,\n 'really': 5681,\n 'say': 5995,\n 'beautiful': 1302,\n 'library': 4155,\n 'tones': 7021,\n 'week': 7502,\n 'include': 3692,\n 'mcfly': 4465,\n 'ab': 767,\n 'sara': 5972,\n 'jorge': 3901,\n 'shock': 6175,\n 'smith': 6324,\n 'switch': 6729,\n 'order': 5055,\n 'follow': 2948,\n 'instructions': 3745,\n 'next': 4835,\n 'most': 4656,\n 'relaxing': 5750,\n 'ever': 2695,\n '7am': 640,\n 'every': 2696,\n 'party': 5168,\n 'night': 4847,\n '5ish': 567,\n 'ard': 1070,\n 'lor': 4268,\n 'aiyar': 913,\n 'poor': 5379,\n 'give': 3175,\n 'support': 6686,\n 'jia': 3874,\n 'think': 6907,\n 'theory': 6890,\n 'argument': 1082,\n 'wins': 7599,\n 'situation': 6265,\n 'loses': 4272,\n 'dont': 2430,\n 'argue': 1080,\n 'ur': 7269,\n 'friends': 3034,\n 'kick': 3981,\n 'correct': 2037,\n 'file': 2868,\n 'bag': 1221,\n 'anything': 1025,\n 'room': 5890,\n 'carlos': 1689,\n 'down': 2450,\n 'him': 3480,\n 'swing': 6727,\n 'by': 1617,\n 'usf': 7292,\n 'little': 4214,\n 'where': 7550,\n 'depends': 2271,\n 'wan': 7439,\n 'oic': 4985,\n 'sis': 6257,\n 'got': 3234,\n 'lunch': 4322,\n 'today': 6998,\n 'dad': 2161,\n 'went': 7522,\n 'out': 5082,\n 'dunno': 2511,\n 'whether': 7555,\n 'eat': 2540,\n 'sch': 6007,\n 'wat': 7464,\n 'thinked': 6908,\n 'first': 2897,\n 'saw': 5994,\n 'class': 1853,\n 'lovin': 4299,\n 'hello': 3445,\n 'month': 4641,\n 'access': 797,\n 'games': 3100,\n 'news': 4832,\n 'sport': 6474,\n 'plus': 5335,\n '10': 262,\n '20': 351,\n 'photo': 5268,\n 'terms': 6836,\n 'apply': 1048,\n 'www': 7706,\n 'co': 1893,\n 'uk': 7185,\n 'ow': 5103,\n 'god': 3198,\n 'has': 3388,\n 'limit': 4180,\n 'grace': 3252,\n 'measure': 4475,\n 'power': 5420,\n 'boundaries': 1480,\n 'may': 4458,\n 'endless': 2613,\n 'blessings': 1416,\n 'life': 4161,\n 'gud': 3303,\n 'ni8': 4837,\n 'urgent': 7272,\n '09061743810': 205,\n 'landline': 4062,\n 'abta': 788,\n 'complimentary': 1960,\n 'tenerife': 6831,\n 'holiday': 3510,\n 'await': 1186,\n 'collection': 1918,\n 'sae': 5940,\n 'cs': 2114,\n 'box': 1484,\n '326': 455,\n 'cw25wx': 2153,\n '150': 311,\n 'ppm': 5424,\n 'goal': 3195,\n 'arsenal': 1104,\n 'henry': 3458,\n 'liverpool': 4217,\n 'scores': 6016,\n 'simple': 6239,\n 'shot': 6192,\n 'yards': 7741,\n 'pass': 5170,\n 'bergkamp': 1350,\n 'margin': 4417,\n 'after': 877,\n '78': 636,\n 'bags': 1222,\n 'blanket': 1408,\n 'paper': 5140,\n 'details': 2293,\n 'else': 2593,\n 'ultimately': 7189,\n 'tor': 7043,\n 'motive': 4662,\n 'tui': 7133,\n 'achieve': 811,\n 'korli': 4023,\n 'aight': 904,\n 'hit': 3488,\n 'dare': 2177,\n 'luck': 4315,\n 'sorting': 6399,\n 'car': 1672,\n 'alright': 948,\n 'bring': 1541,\n 'take': 6756,\n 'pain': 5124,\n 'moves': 4671,\n 'however': 3564,\n 'side': 6224,\n '6hrs': 612,\n 'doctor': 2400,\n 'collecting': 1917,\n 'laptop': 4072,\n 'going': 3204,\n 'configure': 1981,\n 'settings': 6108,\n 'izzit': 3822,\n 'eyes': 2768,\n 'philosophy': 5259,\n 'happening': 3372,\n 'gotten': 3241,\n 'job': 3880,\n 'begun': 1330,\n 'registration': 5740,\n 'permanent': 5231,\n 'residency': 5809,\n 'yup': 7796,\n 've': 7329,\n 'finished': 2887,\n 'system': 6740,\n 'sh': 6122,\n 'ready': 5672,\n 'deep': 2231,\n 'hmmm': 3497,\n 'change': 1747,\n 'field': 2856,\n 'quickly': 5605,\n 'administrator': 842,\n 'she': 6148,\n 'lip': 4200,\n 'synced': 6738,\n 'shangela': 6137,\n 'sitting': 6264,\n 'leh': 4131,\n 'busy': 1604,\n 'yeah': 7747,\n 'newquay': 4831,\n 'postcard': 5404,\n 'look': 4257,\n 'girls': 3172,\n 'while': 7557,\n 'gone': 3213,\n '1im': 340,\n 'talkin': 6766,\n 'bout': 1481,\n 'role': 5885,\n 'model': 4618,\n 'giving': 3178,\n 'each': 2523,\n 'miracle': 4563,\n 'reason': 5685,\n 'everything': 2705,\n 'knew': 4010,\n 'why': 7570,\n 'looked': 4259,\n 'since': 6244,\n 'young': 7775,\n 'todays': 6999,\n 'vodafone': 7384,\n 'numbers': 4929,\n 'ending': 2612,\n '4882': 520,\n 'selected': 6069,\n 'receive': 5696,\n '350': 457,\n 'award': 1189,\n 'number': 4928,\n 'matches': 4439,\n '09064019014': 221,\n 'haha': 3334,\n 'fast': 2810,\n 'lose': 4270,\n 'weight': 7510,\n 'thk': 6917,\n 'muz': 4729,\n 'den': 2260,\n 'effect': 2564,\n 'gee': 3133,\n 'aust': 1170,\n 'put': 5583,\n 'bk': 1399,\n 'hope': 3529,\n 'endowed': 2615,\n 'inches': 3689,\n 'should': 6194,\n 'fb': 2826,\n 'list': 4203,\n 'yo': 7768,\n 'guess': 3307,\n 'dropped': 2483,\n 'sigh': 6225,\n 'miss': 4571,\n 'surprised': 6700,\n 'haven': 3405,\n 'net': 4812,\n 'cafe': 1623,\n 'yet': 7761,\n 'secret': 6045,\n 'admirer': 843,\n 'who': 7562,\n 'contact': 2004,\n 'reveal': 5838,\n 'thinks': 6911,\n 'special': 6430,\n '09058094565': 182,\n 'law': 4097,\n 'same': 5960,\n 'way': 7477,\n 'friendship': 3036,\n 'never': 4823,\n 'friend': 3033,\n 'alone': 944,\n 'until': 7249,\n 'alive': 933,\n 'chk': 1822,\n 'belovd': 1342,\n 'ms': 4681,\n 'dict': 2317,\n 'edison': 2553,\n 'rightly': 5857,\n 'fool': 2959,\n 'questions': 5603,\n 'wise': 7605,\n 'answer': 1006,\n 'speechless': 6437,\n 'during': 2515,\n 'viva': 7380,\n 'gm': 3187,\n 'gn': 3189,\n 'ge': 3132,\n 'gnt': 3191,\n 'enjoy': 2626,\n 'watching': 7469,\n 'playing': 5322,\n 'football': 2963,\n 'basketball': 1263,\n 'outdoors': 5084,\n 'honeybee': 3520,\n 'sweetest': 6721,\n 'world': 7664,\n 'laughed': 4090,\n 'wait': 7420,\n 'havnt': 3411,\n 'met': 4524,\n 'reading': 5671,\n 'moral': 4646,\n 'even': 2689,\n 'crack': 2075,\n 'jokes': 3892,\n 'usual': 7297,\n 'iam': 3617,\n 'fine': 2883,\n 'talk': 6763,\n 'pa': 5114,\n 'eh': 2573,\n 'stock': 6552,\n 'lei': 4132,\n 'he': 3412,\n 'mon': 4630,\n 'mrng': 4679,\n 'nice': 4839,\n 'surfing': 6695,\n 'huh': 3585,\n 'place': 5303,\n 'rofl': 5883,\n 'name': 4753,\n 'de': 2203,\n 'start': 6519,\n 'prepare': 5456,\n 'computerless': 1966,\n 'oreo': 5060,\n 'truffles': 7114,\n 'sec': 6042,\n 'somebody': 6367,\n 'here': 3460,\n 'together': 7002,\n 'thinkin': 6909,\n 'trying': 7121,\n 'last': 4079,\n 'weekends': 7505,\n 'draw': 2464,\n 'shows': 6208,\n '09064017295': 218,\n 'claim': 1845,\n 'code': 1903,\n 'k52': 3933,\n '12hrs': 295,\n '150p': 313,\n 'pm': 5337,\n 'slowly': 6305,\n 'clean': 1858,\n 'blood': 1428,\n 'ten': 6829,\n 'people': 5218,\n 'part': 5160,\n 'checking': 1780,\n 'iq': 3781,\n 'movie': 4672,\n 'netflix': 4814,\n 'hmph': 3500,\n 'head': 3413,\n 'baller': 1231,\n 'noe': 4871,\n 're': 5662,\n 'bored': 1467,\n 'oso': 5072,\n 'colour': 1922,\n 'choose': 1827,\n 'cooking': 2025,\n 'bath': 1268,\n 'ill': 3657,\n 'key': 3973,\n 'window': 7589,\n 'couple': 2060,\n 'minutes': 4561,\n 'let': 4145,\n 'mu': 4698,\n 'buzz': 1612,\n 'hey': 3468,\n 'goes': 3200,\n 'did': 2319,\n 'sleep': 6288,\n 'long': 4253,\n 'moment': 4627,\n 'loving': 4300,\n 'smile': 6319,\n 'btw': 1571,\n 'alibi': 932,\n 'cutting': 2151,\n 'hair': 3338,\n 'whole': 7564,\n 'office': 4974,\n 'loxahatchee': 4305,\n 'xmas': 7717,\n 'tree': 7096,\n 'burning': 1595,\n 'update': 7255,\n 'totally': 7052,\n 'stars': 6517,\n 'been': 1318,\n 'invited': 3768,\n 'xchat': 7714,\n 'final': 2878,\n 'attempt': 1153,\n 'txt': 7157,\n '86688': 700,\n 'robinson': 5876,\n 'read': 5668,\n 'takes': 6759,\n 'runs': 5927,\n 'blame': 1405,\n 'priest': 5480,\n 'into': 3758,\n 'brought': 1558,\n 'sun': 6667,\n 'shiny': 6163,\n 'warming': 7452,\n 'putting': 5586,\n 'constant': 2002,\n 'face': 2773,\n 'making': 4388,\n 'loved': 4291,\n 'cared': 1679,\n 'respond': 5816,\n 'imma': 3669,\n 'assume': 1133,\n 'asleep': 1126,\n 'calling': 1644,\n 'shit': 6169,\n 'hiya': 3493,\n 'didn': 2321,\n 'signal': 6229,\n 'seen': 6063,\n 'heard': 3425,\n 'neither': 4807,\n 'which': 7556,\n 'unusual': 7250,\n 'itself': 3812,\n 'case': 1697,\n 'sort': 6396,\n 'hugs': 3584,\n 'snogs': 6342,\n '2nd': 414,\n '900': 737,\n 'yesterday': 7760,\n 'awaiting': 1187,\n '09061702893': 202,\n 'wen': 7520,\n 'real': 5673,\n 'wil': 7580,\n 'realized': 5680,\n 'only': 5020,\n 'their': 6882,\n 'absence': 783,\n 'rite': 5870,\n 'best': 1352,\n 'mate': 4440,\n 'pete': 5247,\n '2geva': 397,\n 'cost': 2044,\n 'isnt': 3799,\n 'bad': 1218,\n 'ya': 7732,\n 'srsly': 6494,\n 'better': 1357,\n 'yi': 7764,\n 'tho': 6922,\n 'initiate': 3724,\n 'understand': 7211,\n 'check': 1776,\n 'errors': 2662,\n 'had': 3331,\n 'difficulties': 2332,\n 'correction': 2038,\n 'darling': 2182,\n 'would': 7677,\n 'sexy': 6118,\n 'sent': 6092,\n 'actually': 828,\n 'getting': 3157,\n 'rest': 5821,\n 'afternon': 878,\n 'interviews': 3755,\n 'wake': 7423,\n 'passionate': 5175,\n 'kiss': 4001,\n 'across': 817,\n 'sea': 6037,\n 'nope': 4889,\n 'wif': 7575,\n 'aft': 876,\n 'bathing': 1270,\n 'dog': 2408,\n 'bathe': 1269,\n 'looks': 4262,\n 'rain': 5625,\n 'buffet': 1579,\n 'ugh': 7179,\n 'exhausted': 2737,\n 'cuddle': 2124,\n 'nap': 4762,\n 'matter': 4450,\n 'mind': 4546,\n 'saying': 5998,\n 'taken': 6758,\n 'teeth': 6813,\n 'paining': 5126,\n 'pity': 5298,\n 'mood': 4644,\n 'suggestions': 6656,\n 'urination': 7277,\n 'boy': 1499,\n 'gal': 3094,\n 'propsd': 5537,\n 'bt': 1570,\n 'gv': 3322,\n 'lv': 4332,\n 'lttrs': 4314,\n 'frnds': 3043,\n 'threw': 6933,\n 'thm': 6919,\n 'decided': 2220,\n 'aproach': 1061,\n 'dt': 2496,\n 'truck': 7111,\n 'speeding': 6440,\n 'towards': 7059,\n 'wn': 7632,\n 'girl': 3169,\n 'ran': 5638,\n 'hell': 3443,\n 'saved': 5991,\n 'asked': 1121,\n 'hw': 3613,\n 'cn': 1890,\n 'run': 5925,\n 'replied': 5789,\n 'boost': 1463,\n 'energy': 2619,\n 'instantly': 3742,\n 'shouted': 6197,\n 'thy': 6950,\n 'lived': 4216,\n 'happily': 3376,\n '2gthr': 399,\n 'drinking': 2473,\n 'evrydy': 2718,\n 'story': 6572,\n 'hv': 3610,\n 'sir': 6255,\n 'senthil': 6094,\n 'hsbc': 3574,\n 'those': 6923,\n 'tour': 7058,\n 'thought': 6926,\n 'sofa': 6354,\n 'curious': 2136,\n 'sugar': 6652,\n 'private': 5493,\n '2003': 354,\n 'account': 805,\n 'statement': 6527,\n '800': 648,\n 'un': 7196,\n 'redeemed': 5718,\n 'points': 5358,\n '08715203685': 130,\n 'identifier': 3638,\n '4xx26': 543,\n 'expires': 2754,\n '13': 297,\n '04': 13,\n 'inner': 3728,\n 'tigress': 6956,\n 'chance': 1745,\n 'reality': 5678,\n 'fantasy': 2804,\n '08707509020': 91,\n '20p': 361,\n 'per': 5220,\n 'min': 4543,\n 'ntt': 4922,\n 'ltd': 4313,\n 'po': 5339,\n '1327': 299,\n 'croydon': 2106,\n 'cr9': 2073,\n '5wb': 574,\n '0870': 71,\n 'national': 4771,\n 'rate': 5647,\n 'allo': 939,\n 'braved': 1513,\n 'buses': 1600,\n 'trains': 7072,\n 'triumphed': 7105,\n 'mean': 4469,\n 'ham': 3349,\n 'jolly': 3895,\n 'years': 7749,\n 'eve': 2687,\n 'boyfriend': 1502,\n 'si': 6219,\n 'womdarfull': 7640,\n 'actor': 826,\n 'late': 4082,\n 'ah': 895,\n '945': 745,\n 'punto': 5569,\n 'woulda': 7678,\n 'worse': 7671,\n 'ac': 791,\n 'sun0819': 6668,\n 'posts': 5409,\n 'seem': 6060,\n 'cool': 2026,\n 'stop': 6559,\n '62468': 589,\n 'does': 2404,\n 'applebees': 1046,\n 'specially': 6434,\n '3000': 436,\n '08712402050': 108,\n 'before': 1323,\n 'lines': 4190,\n 'close': 1873,\n '10ppm': 274,\n '16': 324,\n 'ag': 883,\n 'promo': 5526,\n 'makes': 4385,\n 'dearer': 2211,\n 'happiness': 3377,\n 'dat': 2187,\n 'dem': 2258,\n 'supervisor': 6681,\n 'his': 3486,\n 'students': 6599,\n 'havent': 3406,\n 'bigger': 1373,\n 'omw': 5007,\n 'gotta': 3240,\n 'half8th': 3344,\n 'money': 4633,\n 'made': 4365,\n 'aren': 1073,\n 'hours': 3554,\n 'flip': 2922,\n 'borderline': 1466,\n 'whatever': 7540,\n 'reminder': 5767,\n 'o2': 4946,\n '50': 545,\n 'pounds': 5416,\n 'credit': 2091,\n 'house': 3555,\n 'postcode': 5405,\n 'seeking': 6059,\n 'lady': 4050,\n 'street': 6579,\n 'freak': 3009,\n 'sheets': 6150,\n 'stupid': 6610,\n 'sending': 6085,\n 'pandy': 5132,\n 'mental': 4507,\n 'could': 2052,\n 'pix': 5299,\n 'top': 7038,\n 'bottom': 1478,\n ...}"
     },
     "execution_count": 22,
     "metadata": {},
     "output_type": "execute_result"
    }
   ],
   "source": [
    "cv.vocabulary_"
   ]
  },
  {
   "cell_type": "code",
   "execution_count": 23,
   "metadata": {
    "ExecuteTime": {
     "end_time": "2024-01-23T02:07:24.055931700Z",
     "start_time": "2024-01-23T02:07:24.013276800Z"
    }
   },
   "outputs": [
    {
     "ename": "AttributeError",
     "evalue": "'CountVectorizer' object has no attribute 'get_feature_names'",
     "output_type": "error",
     "traceback": [
      "\u001B[1;31m---------------------------------------------------------------------------\u001B[0m",
      "\u001B[1;31mAttributeError\u001B[0m                            Traceback (most recent call last)",
      "Cell \u001B[1;32mIn[23], line 1\u001B[0m\n\u001B[1;32m----> 1\u001B[0m cv\u001B[38;5;241m.\u001B[39mget_feature_names()[\u001B[38;5;241m6814\u001B[39m]\n",
      "\u001B[1;31mAttributeError\u001B[0m: 'CountVectorizer' object has no attribute 'get_feature_names'"
     ]
    }
   ],
   "source": [
    "cv.get_feature_names()[6814]"
   ]
  },
  {
   "cell_type": "code",
   "execution_count": 24,
   "metadata": {
    "ExecuteTime": {
     "end_time": "2024-01-23T02:07:24.330126800Z",
     "start_time": "2024-01-23T02:07:24.270078900Z"
    }
   },
   "outputs": [
    {
     "data": {
      "text/plain": "array([0, 0, 0, ..., 0, 0, 0], dtype=int64)"
     },
     "execution_count": 24,
     "metadata": {},
     "output_type": "execute_result"
    }
   ],
   "source": [
    "X_train_np = X_train_cv.toarray()\n",
    "X_train_np[0]"
   ]
  },
  {
   "cell_type": "code",
   "execution_count": 25,
   "metadata": {
    "ExecuteTime": {
     "end_time": "2024-01-23T02:07:24.586936200Z",
     "start_time": "2024-01-23T02:07:24.548137Z"
    }
   },
   "outputs": [
    {
     "data": {
      "text/plain": "(array([  49,  264, 1436, 1631, 1633, 2445, 3013, 3469, 4086, 4557, 4611,\n        4664, 4876, 5008, 5047, 5051, 6386, 6776, 7164, 7614], dtype=int64),)"
     },
     "execution_count": 25,
     "metadata": {},
     "output_type": "execute_result"
    }
   ],
   "source": [
    "np.where(X_train_np[0]!= 0)"
   ]
  },
  {
   "cell_type": "code",
   "execution_count": 26,
   "metadata": {
    "ExecuteTime": {
     "end_time": "2024-01-23T02:07:26.201002300Z",
     "start_time": "2024-01-23T02:07:24.811814500Z"
    }
   },
   "outputs": [
    {
     "ename": "KeyError",
     "evalue": "3370",
     "output_type": "error",
     "traceback": [
      "\u001B[1;31m---------------------------------------------------------------------------\u001B[0m",
      "\u001B[1;31mKeyError\u001B[0m                                  Traceback (most recent call last)",
      "File \u001B[1;32m~\\anaconda3\\Lib\\site-packages\\pandas\\core\\indexes\\base.py:3802\u001B[0m, in \u001B[0;36mIndex.get_loc\u001B[1;34m(self, key, method, tolerance)\u001B[0m\n\u001B[0;32m   3801\u001B[0m \u001B[38;5;28;01mtry\u001B[39;00m:\n\u001B[1;32m-> 3802\u001B[0m     \u001B[38;5;28;01mreturn\u001B[39;00m \u001B[38;5;28mself\u001B[39m\u001B[38;5;241m.\u001B[39m_engine\u001B[38;5;241m.\u001B[39mget_loc(casted_key)\n\u001B[0;32m   3803\u001B[0m \u001B[38;5;28;01mexcept\u001B[39;00m \u001B[38;5;167;01mKeyError\u001B[39;00m \u001B[38;5;28;01mas\u001B[39;00m err:\n",
      "File \u001B[1;32m~\\anaconda3\\Lib\\site-packages\\pandas\\_libs\\index.pyx:138\u001B[0m, in \u001B[0;36mpandas._libs.index.IndexEngine.get_loc\u001B[1;34m()\u001B[0m\n",
      "File \u001B[1;32m~\\anaconda3\\Lib\\site-packages\\pandas\\_libs\\index.pyx:165\u001B[0m, in \u001B[0;36mpandas._libs.index.IndexEngine.get_loc\u001B[1;34m()\u001B[0m\n",
      "File \u001B[1;32mpandas\\_libs\\hashtable_class_helper.pxi:2263\u001B[0m, in \u001B[0;36mpandas._libs.hashtable.Int64HashTable.get_item\u001B[1;34m()\u001B[0m\n",
      "File \u001B[1;32mpandas\\_libs\\hashtable_class_helper.pxi:2273\u001B[0m, in \u001B[0;36mpandas._libs.hashtable.Int64HashTable.get_item\u001B[1;34m()\u001B[0m\n",
      "\u001B[1;31mKeyError\u001B[0m: 3370",
      "\nThe above exception was the direct cause of the following exception:\n",
      "\u001B[1;31mKeyError\u001B[0m                                  Traceback (most recent call last)",
      "Cell \u001B[1;32mIn[26], line 1\u001B[0m\n\u001B[1;32m----> 1\u001B[0m X_train[:\u001B[38;5;241m5\u001B[39m][\u001B[38;5;241m3370\u001B[39m]\n",
      "File \u001B[1;32m~\\anaconda3\\Lib\\site-packages\\pandas\\core\\series.py:981\u001B[0m, in \u001B[0;36mSeries.__getitem__\u001B[1;34m(self, key)\u001B[0m\n\u001B[0;32m    978\u001B[0m     \u001B[38;5;28;01mreturn\u001B[39;00m \u001B[38;5;28mself\u001B[39m\u001B[38;5;241m.\u001B[39m_values[key]\n\u001B[0;32m    980\u001B[0m \u001B[38;5;28;01melif\u001B[39;00m key_is_scalar:\n\u001B[1;32m--> 981\u001B[0m     \u001B[38;5;28;01mreturn\u001B[39;00m \u001B[38;5;28mself\u001B[39m\u001B[38;5;241m.\u001B[39m_get_value(key)\n\u001B[0;32m    983\u001B[0m \u001B[38;5;28;01mif\u001B[39;00m is_hashable(key):\n\u001B[0;32m    984\u001B[0m     \u001B[38;5;66;03m# Otherwise index.get_value will raise InvalidIndexError\u001B[39;00m\n\u001B[0;32m    985\u001B[0m     \u001B[38;5;28;01mtry\u001B[39;00m:\n\u001B[0;32m    986\u001B[0m         \u001B[38;5;66;03m# For labels that don't resolve as scalars like tuples and frozensets\u001B[39;00m\n",
      "File \u001B[1;32m~\\anaconda3\\Lib\\site-packages\\pandas\\core\\series.py:1089\u001B[0m, in \u001B[0;36mSeries._get_value\u001B[1;34m(self, label, takeable)\u001B[0m\n\u001B[0;32m   1086\u001B[0m     \u001B[38;5;28;01mreturn\u001B[39;00m \u001B[38;5;28mself\u001B[39m\u001B[38;5;241m.\u001B[39m_values[label]\n\u001B[0;32m   1088\u001B[0m \u001B[38;5;66;03m# Similar to Index.get_value, but we do not fall back to positional\u001B[39;00m\n\u001B[1;32m-> 1089\u001B[0m loc \u001B[38;5;241m=\u001B[39m \u001B[38;5;28mself\u001B[39m\u001B[38;5;241m.\u001B[39mindex\u001B[38;5;241m.\u001B[39mget_loc(label)\n\u001B[0;32m   1090\u001B[0m \u001B[38;5;28;01mreturn\u001B[39;00m \u001B[38;5;28mself\u001B[39m\u001B[38;5;241m.\u001B[39mindex\u001B[38;5;241m.\u001B[39m_get_values_for_loc(\u001B[38;5;28mself\u001B[39m, loc, label)\n",
      "File \u001B[1;32m~\\anaconda3\\Lib\\site-packages\\pandas\\core\\indexes\\base.py:3804\u001B[0m, in \u001B[0;36mIndex.get_loc\u001B[1;34m(self, key, method, tolerance)\u001B[0m\n\u001B[0;32m   3802\u001B[0m     \u001B[38;5;28;01mreturn\u001B[39;00m \u001B[38;5;28mself\u001B[39m\u001B[38;5;241m.\u001B[39m_engine\u001B[38;5;241m.\u001B[39mget_loc(casted_key)\n\u001B[0;32m   3803\u001B[0m \u001B[38;5;28;01mexcept\u001B[39;00m \u001B[38;5;167;01mKeyError\u001B[39;00m \u001B[38;5;28;01mas\u001B[39;00m err:\n\u001B[1;32m-> 3804\u001B[0m     \u001B[38;5;28;01mraise\u001B[39;00m \u001B[38;5;167;01mKeyError\u001B[39;00m(key) \u001B[38;5;28;01mfrom\u001B[39;00m \u001B[38;5;21;01merr\u001B[39;00m\n\u001B[0;32m   3805\u001B[0m \u001B[38;5;28;01mexcept\u001B[39;00m \u001B[38;5;167;01mTypeError\u001B[39;00m:\n\u001B[0;32m   3806\u001B[0m     \u001B[38;5;66;03m# If we have a listlike key, _check_indexing_error will raise\u001B[39;00m\n\u001B[0;32m   3807\u001B[0m     \u001B[38;5;66;03m#  InvalidIndexError. Otherwise we fall through and re-raise\u001B[39;00m\n\u001B[0;32m   3808\u001B[0m     \u001B[38;5;66;03m#  the TypeError.\u001B[39;00m\n\u001B[0;32m   3809\u001B[0m     \u001B[38;5;28mself\u001B[39m\u001B[38;5;241m.\u001B[39m_check_indexing_error(key)\n",
      "\u001B[1;31mKeyError\u001B[0m: 3370"
     ]
    }
   ],
   "source": [
    "X_train[:5][3370]"
   ]
  },
  {
   "cell_type": "code",
   "execution_count": null,
   "metadata": {
    "ExecuteTime": {
     "end_time": "2024-01-23T02:07:26.225269800Z",
     "start_time": "2024-01-23T02:07:26.201058400Z"
    }
   },
   "outputs": [],
   "source": [
    "X_train_np[0][6170]"
   ]
  },
  {
   "cell_type": "markdown",
   "metadata": {},
   "source": [
    "Naive Bayes"
   ]
  },
  {
   "cell_type": "code",
   "execution_count": 33,
   "metadata": {
    "ExecuteTime": {
     "end_time": "2024-01-23T02:08:05.920953400Z",
     "start_time": "2024-01-23T02:08:05.895186200Z"
    }
   },
   "outputs": [],
   "source": [
    "from sklearn.naive_bayes import MultinomialNB\n",
    "\n",
    "model = MultinomialNB()"
   ]
  },
  {
   "cell_type": "code",
   "execution_count": 34,
   "metadata": {
    "ExecuteTime": {
     "end_time": "2024-01-23T02:08:06.633615100Z",
     "start_time": "2024-01-23T02:08:06.603928700Z"
    }
   },
   "outputs": [
    {
     "data": {
      "text/plain": "MultinomialNB()",
      "text/html": "<style>#sk-container-id-1 {\n  /* Definition of color scheme common for light and dark mode */\n  --sklearn-color-text: black;\n  --sklearn-color-line: gray;\n  /* Definition of color scheme for unfitted estimators */\n  --sklearn-color-unfitted-level-0: #fff5e6;\n  --sklearn-color-unfitted-level-1: #f6e4d2;\n  --sklearn-color-unfitted-level-2: #ffe0b3;\n  --sklearn-color-unfitted-level-3: chocolate;\n  /* Definition of color scheme for fitted estimators */\n  --sklearn-color-fitted-level-0: #f0f8ff;\n  --sklearn-color-fitted-level-1: #d4ebff;\n  --sklearn-color-fitted-level-2: #b3dbfd;\n  --sklearn-color-fitted-level-3: cornflowerblue;\n\n  /* Specific color for light theme */\n  --sklearn-color-text-on-default-background: var(--sg-text-color, var(--theme-code-foreground, var(--jp-content-font-color1, black)));\n  --sklearn-color-background: var(--sg-background-color, var(--theme-background, var(--jp-layout-color0, white)));\n  --sklearn-color-border-box: var(--sg-text-color, var(--theme-code-foreground, var(--jp-content-font-color1, black)));\n  --sklearn-color-icon: #696969;\n\n  @media (prefers-color-scheme: dark) {\n    /* Redefinition of color scheme for dark theme */\n    --sklearn-color-text-on-default-background: var(--sg-text-color, var(--theme-code-foreground, var(--jp-content-font-color1, white)));\n    --sklearn-color-background: var(--sg-background-color, var(--theme-background, var(--jp-layout-color0, #111)));\n    --sklearn-color-border-box: var(--sg-text-color, var(--theme-code-foreground, var(--jp-content-font-color1, white)));\n    --sklearn-color-icon: #878787;\n  }\n}\n\n#sk-container-id-1 {\n  color: var(--sklearn-color-text);\n}\n\n#sk-container-id-1 pre {\n  padding: 0;\n}\n\n#sk-container-id-1 input.sk-hidden--visually {\n  border: 0;\n  clip: rect(1px 1px 1px 1px);\n  clip: rect(1px, 1px, 1px, 1px);\n  height: 1px;\n  margin: -1px;\n  overflow: hidden;\n  padding: 0;\n  position: absolute;\n  width: 1px;\n}\n\n#sk-container-id-1 div.sk-dashed-wrapped {\n  border: 1px dashed var(--sklearn-color-line);\n  margin: 0 0.4em 0.5em 0.4em;\n  box-sizing: border-box;\n  padding-bottom: 0.4em;\n  background-color: var(--sklearn-color-background);\n}\n\n#sk-container-id-1 div.sk-container {\n  /* jupyter's `normalize.less` sets `[hidden] { display: none; }`\n     but bootstrap.min.css set `[hidden] { display: none !important; }`\n     so we also need the `!important` here to be able to override the\n     default hidden behavior on the sphinx rendered scikit-learn.org.\n     See: https://github.com/scikit-learn/scikit-learn/issues/21755 */\n  display: inline-block !important;\n  position: relative;\n}\n\n#sk-container-id-1 div.sk-text-repr-fallback {\n  display: none;\n}\n\ndiv.sk-parallel-item,\ndiv.sk-serial,\ndiv.sk-item {\n  /* draw centered vertical line to link estimators */\n  background-image: linear-gradient(var(--sklearn-color-text-on-default-background), var(--sklearn-color-text-on-default-background));\n  background-size: 2px 100%;\n  background-repeat: no-repeat;\n  background-position: center center;\n}\n\n/* Parallel-specific style estimator block */\n\n#sk-container-id-1 div.sk-parallel-item::after {\n  content: \"\";\n  width: 100%;\n  border-bottom: 2px solid var(--sklearn-color-text-on-default-background);\n  flex-grow: 1;\n}\n\n#sk-container-id-1 div.sk-parallel {\n  display: flex;\n  align-items: stretch;\n  justify-content: center;\n  background-color: var(--sklearn-color-background);\n  position: relative;\n}\n\n#sk-container-id-1 div.sk-parallel-item {\n  display: flex;\n  flex-direction: column;\n}\n\n#sk-container-id-1 div.sk-parallel-item:first-child::after {\n  align-self: flex-end;\n  width: 50%;\n}\n\n#sk-container-id-1 div.sk-parallel-item:last-child::after {\n  align-self: flex-start;\n  width: 50%;\n}\n\n#sk-container-id-1 div.sk-parallel-item:only-child::after {\n  width: 0;\n}\n\n/* Serial-specific style estimator block */\n\n#sk-container-id-1 div.sk-serial {\n  display: flex;\n  flex-direction: column;\n  align-items: center;\n  background-color: var(--sklearn-color-background);\n  padding-right: 1em;\n  padding-left: 1em;\n}\n\n\n/* Toggleable style: style used for estimator/Pipeline/ColumnTransformer box that is\nclickable and can be expanded/collapsed.\n- Pipeline and ColumnTransformer use this feature and define the default style\n- Estimators will overwrite some part of the style using the `sk-estimator` class\n*/\n\n/* Pipeline and ColumnTransformer style (default) */\n\n#sk-container-id-1 div.sk-toggleable {\n  /* Default theme specific background. It is overwritten whether we have a\n  specific estimator or a Pipeline/ColumnTransformer */\n  background-color: var(--sklearn-color-background);\n}\n\n/* Toggleable label */\n#sk-container-id-1 label.sk-toggleable__label {\n  cursor: pointer;\n  display: block;\n  width: 100%;\n  margin-bottom: 0;\n  padding: 0.5em;\n  box-sizing: border-box;\n  text-align: center;\n}\n\n#sk-container-id-1 label.sk-toggleable__label-arrow:before {\n  /* Arrow on the left of the label */\n  content: \"▸\";\n  float: left;\n  margin-right: 0.25em;\n  color: var(--sklearn-color-icon);\n}\n\n#sk-container-id-1 label.sk-toggleable__label-arrow:hover:before {\n  color: var(--sklearn-color-text);\n}\n\n/* Toggleable content - dropdown */\n\n#sk-container-id-1 div.sk-toggleable__content {\n  max-height: 0;\n  max-width: 0;\n  overflow: hidden;\n  text-align: left;\n  /* unfitted */\n  background-color: var(--sklearn-color-unfitted-level-0);\n}\n\n#sk-container-id-1 div.sk-toggleable__content.fitted {\n  /* fitted */\n  background-color: var(--sklearn-color-fitted-level-0);\n}\n\n#sk-container-id-1 div.sk-toggleable__content pre {\n  margin: 0.2em;\n  border-radius: 0.25em;\n  color: var(--sklearn-color-text);\n  /* unfitted */\n  background-color: var(--sklearn-color-unfitted-level-0);\n}\n\n#sk-container-id-1 div.sk-toggleable__content.fitted pre {\n  /* unfitted */\n  background-color: var(--sklearn-color-fitted-level-0);\n}\n\n#sk-container-id-1 input.sk-toggleable__control:checked~div.sk-toggleable__content {\n  /* Expand drop-down */\n  max-height: 200px;\n  max-width: 100%;\n  overflow: auto;\n}\n\n#sk-container-id-1 input.sk-toggleable__control:checked~label.sk-toggleable__label-arrow:before {\n  content: \"▾\";\n}\n\n/* Pipeline/ColumnTransformer-specific style */\n\n#sk-container-id-1 div.sk-label input.sk-toggleable__control:checked~label.sk-toggleable__label {\n  color: var(--sklearn-color-text);\n  background-color: var(--sklearn-color-unfitted-level-2);\n}\n\n#sk-container-id-1 div.sk-label.fitted input.sk-toggleable__control:checked~label.sk-toggleable__label {\n  background-color: var(--sklearn-color-fitted-level-2);\n}\n\n/* Estimator-specific style */\n\n/* Colorize estimator box */\n#sk-container-id-1 div.sk-estimator input.sk-toggleable__control:checked~label.sk-toggleable__label {\n  /* unfitted */\n  background-color: var(--sklearn-color-unfitted-level-2);\n}\n\n#sk-container-id-1 div.sk-estimator.fitted input.sk-toggleable__control:checked~label.sk-toggleable__label {\n  /* fitted */\n  background-color: var(--sklearn-color-fitted-level-2);\n}\n\n#sk-container-id-1 div.sk-label label.sk-toggleable__label,\n#sk-container-id-1 div.sk-label label {\n  /* The background is the default theme color */\n  color: var(--sklearn-color-text-on-default-background);\n}\n\n/* On hover, darken the color of the background */\n#sk-container-id-1 div.sk-label:hover label.sk-toggleable__label {\n  color: var(--sklearn-color-text);\n  background-color: var(--sklearn-color-unfitted-level-2);\n}\n\n/* Label box, darken color on hover, fitted */\n#sk-container-id-1 div.sk-label.fitted:hover label.sk-toggleable__label.fitted {\n  color: var(--sklearn-color-text);\n  background-color: var(--sklearn-color-fitted-level-2);\n}\n\n/* Estimator label */\n\n#sk-container-id-1 div.sk-label label {\n  font-family: monospace;\n  font-weight: bold;\n  display: inline-block;\n  line-height: 1.2em;\n}\n\n#sk-container-id-1 div.sk-label-container {\n  text-align: center;\n}\n\n/* Estimator-specific */\n#sk-container-id-1 div.sk-estimator {\n  font-family: monospace;\n  border: 1px dotted var(--sklearn-color-border-box);\n  border-radius: 0.25em;\n  box-sizing: border-box;\n  margin-bottom: 0.5em;\n  /* unfitted */\n  background-color: var(--sklearn-color-unfitted-level-0);\n}\n\n#sk-container-id-1 div.sk-estimator.fitted {\n  /* fitted */\n  background-color: var(--sklearn-color-fitted-level-0);\n}\n\n/* on hover */\n#sk-container-id-1 div.sk-estimator:hover {\n  /* unfitted */\n  background-color: var(--sklearn-color-unfitted-level-2);\n}\n\n#sk-container-id-1 div.sk-estimator.fitted:hover {\n  /* fitted */\n  background-color: var(--sklearn-color-fitted-level-2);\n}\n\n/* Specification for estimator info (e.g. \"i\" and \"?\") */\n\n/* Common style for \"i\" and \"?\" */\n\n.sk-estimator-doc-link,\na:link.sk-estimator-doc-link,\na:visited.sk-estimator-doc-link {\n  float: right;\n  font-size: smaller;\n  line-height: 1em;\n  font-family: monospace;\n  background-color: var(--sklearn-color-background);\n  border-radius: 1em;\n  height: 1em;\n  width: 1em;\n  text-decoration: none !important;\n  margin-left: 1ex;\n  /* unfitted */\n  border: var(--sklearn-color-unfitted-level-1) 1pt solid;\n  color: var(--sklearn-color-unfitted-level-1);\n}\n\n.sk-estimator-doc-link.fitted,\na:link.sk-estimator-doc-link.fitted,\na:visited.sk-estimator-doc-link.fitted {\n  /* fitted */\n  border: var(--sklearn-color-fitted-level-1) 1pt solid;\n  color: var(--sklearn-color-fitted-level-1);\n}\n\n/* On hover */\ndiv.sk-estimator:hover .sk-estimator-doc-link:hover,\n.sk-estimator-doc-link:hover,\ndiv.sk-label-container:hover .sk-estimator-doc-link:hover,\n.sk-estimator-doc-link:hover {\n  /* unfitted */\n  background-color: var(--sklearn-color-unfitted-level-3);\n  color: var(--sklearn-color-background);\n  text-decoration: none;\n}\n\ndiv.sk-estimator.fitted:hover .sk-estimator-doc-link.fitted:hover,\n.sk-estimator-doc-link.fitted:hover,\ndiv.sk-label-container:hover .sk-estimator-doc-link.fitted:hover,\n.sk-estimator-doc-link.fitted:hover {\n  /* fitted */\n  background-color: var(--sklearn-color-fitted-level-3);\n  color: var(--sklearn-color-background);\n  text-decoration: none;\n}\n\n/* Span, style for the box shown on hovering the info icon */\n.sk-estimator-doc-link span {\n  display: none;\n  z-index: 9999;\n  position: relative;\n  font-weight: normal;\n  right: .2ex;\n  padding: .5ex;\n  margin: .5ex;\n  width: min-content;\n  min-width: 20ex;\n  max-width: 50ex;\n  color: var(--sklearn-color-text);\n  box-shadow: 2pt 2pt 4pt #999;\n  /* unfitted */\n  background: var(--sklearn-color-unfitted-level-0);\n  border: .5pt solid var(--sklearn-color-unfitted-level-3);\n}\n\n.sk-estimator-doc-link.fitted span {\n  /* fitted */\n  background: var(--sklearn-color-fitted-level-0);\n  border: var(--sklearn-color-fitted-level-3);\n}\n\n.sk-estimator-doc-link:hover span {\n  display: block;\n}\n\n/* \"?\"-specific style due to the `<a>` HTML tag */\n\n#sk-container-id-1 a.estimator_doc_link {\n  float: right;\n  font-size: 1rem;\n  line-height: 1em;\n  font-family: monospace;\n  background-color: var(--sklearn-color-background);\n  border-radius: 1rem;\n  height: 1rem;\n  width: 1rem;\n  text-decoration: none;\n  /* unfitted */\n  color: var(--sklearn-color-unfitted-level-1);\n  border: var(--sklearn-color-unfitted-level-1) 1pt solid;\n}\n\n#sk-container-id-1 a.estimator_doc_link.fitted {\n  /* fitted */\n  border: var(--sklearn-color-fitted-level-1) 1pt solid;\n  color: var(--sklearn-color-fitted-level-1);\n}\n\n/* On hover */\n#sk-container-id-1 a.estimator_doc_link:hover {\n  /* unfitted */\n  background-color: var(--sklearn-color-unfitted-level-3);\n  color: var(--sklearn-color-background);\n  text-decoration: none;\n}\n\n#sk-container-id-1 a.estimator_doc_link.fitted:hover {\n  /* fitted */\n  background-color: var(--sklearn-color-fitted-level-3);\n}\n</style><div id=\"sk-container-id-1\" class=\"sk-top-container\"><div class=\"sk-text-repr-fallback\"><pre>MultinomialNB()</pre><b>In a Jupyter environment, please rerun this cell to show the HTML representation or trust the notebook. <br />On GitHub, the HTML representation is unable to render, please try loading this page with nbviewer.org.</b></div><div class=\"sk-container\" hidden><div class=\"sk-item\"><div class=\"sk-estimator fitted sk-toggleable\"><input class=\"sk-toggleable__control sk-hidden--visually\" id=\"sk-estimator-id-1\" type=\"checkbox\" checked><label for=\"sk-estimator-id-1\" class=\"sk-toggleable__label fitted sk-toggleable__label-arrow fitted\">&nbsp;&nbsp;MultinomialNB<a class=\"sk-estimator-doc-link fitted\" rel=\"noreferrer\" target=\"_blank\" href=\"https://scikit-learn.org/1.4/modules/generated/sklearn.naive_bayes.MultinomialNB.html\">?<span>Documentation for MultinomialNB</span></a><span class=\"sk-estimator-doc-link fitted\">i<span>Fitted</span></span></label><div class=\"sk-toggleable__content fitted\"><pre>MultinomialNB()</pre></div> </div></div></div></div>"
     },
     "execution_count": 34,
     "metadata": {},
     "output_type": "execute_result"
    }
   ],
   "source": [
    "model.fit(X_train_cv, y_train)"
   ]
  },
  {
   "cell_type": "code",
   "execution_count": 35,
   "metadata": {
    "ExecuteTime": {
     "end_time": "2024-01-23T02:08:08.403856600Z",
     "start_time": "2024-01-23T02:08:08.366745Z"
    }
   },
   "outputs": [],
   "source": [
    "X_test_cv = cv.transform(X_test)"
   ]
  },
  {
   "cell_type": "code",
   "execution_count": 36,
   "metadata": {
    "ExecuteTime": {
     "end_time": "2024-01-23T02:08:10.218862900Z",
     "start_time": "2024-01-23T02:08:10.214614300Z"
    }
   },
   "outputs": [],
   "source": [
    "y_pred = model.predict(X_test_cv)"
   ]
  },
  {
   "cell_type": "code",
   "execution_count": 37,
   "metadata": {
    "ExecuteTime": {
     "end_time": "2024-01-23T02:08:11.090989100Z",
     "start_time": "2024-01-23T02:08:11.064912300Z"
    }
   },
   "outputs": [
    {
     "name": "stdout",
     "output_type": "stream",
     "text": [
      "              precision    recall  f1-score   support\n",
      "\n",
      "           0       0.98      1.00      0.99       942\n",
      "           1       1.00      0.91      0.95       173\n",
      "\n",
      "    accuracy                           0.99      1115\n",
      "   macro avg       0.99      0.96      0.97      1115\n",
      "weighted avg       0.99      0.99      0.99      1115\n"
     ]
    }
   ],
   "source": [
    "print(classification_report(y_test, y_pred))"
   ]
  },
  {
   "cell_type": "code",
   "execution_count": 38,
   "metadata": {
    "ExecuteTime": {
     "end_time": "2024-01-23T02:08:12.004312400Z",
     "start_time": "2024-01-23T02:08:11.962531900Z"
    }
   },
   "outputs": [
    {
     "data": {
      "text/plain": "array([0], dtype=int64)"
     },
     "execution_count": 38,
     "metadata": {},
     "output_type": "execute_result"
    }
   ],
   "source": [
    "emails = [\n",
    "    \"How's it going? Got any exciting karaoke type activities planned? I'm debating whether to play football this eve. Feeling lazy though.\"\n",
    "]\n",
    "emails_count = cv.transform(emails)\n",
    "model.predict(emails_count)"
   ]
  },
  {
   "cell_type": "code",
   "execution_count": 39,
   "metadata": {
    "ExecuteTime": {
     "end_time": "2024-01-23T02:08:12.778538300Z",
     "start_time": "2024-01-23T02:08:12.765270100Z"
    }
   },
   "outputs": [],
   "source": [
    "#using sklearn pipeline and reduce number of lines of code\n",
    "from sklearn.pipeline import Pipeline\n",
    "\n",
    "clf = Pipeline([\n",
    "    (\"vectorizer\", CountVectorizer()),\n",
    "    (\"nb\", MultinomialNB())\n",
    "])"
   ]
  },
  {
   "cell_type": "code",
   "execution_count": 40,
   "metadata": {
    "ExecuteTime": {
     "end_time": "2024-01-23T02:08:13.711219600Z",
     "start_time": "2024-01-23T02:08:13.630818200Z"
    }
   },
   "outputs": [
    {
     "data": {
      "text/plain": "Pipeline(steps=[('vectorizer', CountVectorizer()), ('nb', MultinomialNB())])",
      "text/html": "<style>#sk-container-id-2 {\n  /* Definition of color scheme common for light and dark mode */\n  --sklearn-color-text: black;\n  --sklearn-color-line: gray;\n  /* Definition of color scheme for unfitted estimators */\n  --sklearn-color-unfitted-level-0: #fff5e6;\n  --sklearn-color-unfitted-level-1: #f6e4d2;\n  --sklearn-color-unfitted-level-2: #ffe0b3;\n  --sklearn-color-unfitted-level-3: chocolate;\n  /* Definition of color scheme for fitted estimators */\n  --sklearn-color-fitted-level-0: #f0f8ff;\n  --sklearn-color-fitted-level-1: #d4ebff;\n  --sklearn-color-fitted-level-2: #b3dbfd;\n  --sklearn-color-fitted-level-3: cornflowerblue;\n\n  /* Specific color for light theme */\n  --sklearn-color-text-on-default-background: var(--sg-text-color, var(--theme-code-foreground, var(--jp-content-font-color1, black)));\n  --sklearn-color-background: var(--sg-background-color, var(--theme-background, var(--jp-layout-color0, white)));\n  --sklearn-color-border-box: var(--sg-text-color, var(--theme-code-foreground, var(--jp-content-font-color1, black)));\n  --sklearn-color-icon: #696969;\n\n  @media (prefers-color-scheme: dark) {\n    /* Redefinition of color scheme for dark theme */\n    --sklearn-color-text-on-default-background: var(--sg-text-color, var(--theme-code-foreground, var(--jp-content-font-color1, white)));\n    --sklearn-color-background: var(--sg-background-color, var(--theme-background, var(--jp-layout-color0, #111)));\n    --sklearn-color-border-box: var(--sg-text-color, var(--theme-code-foreground, var(--jp-content-font-color1, white)));\n    --sklearn-color-icon: #878787;\n  }\n}\n\n#sk-container-id-2 {\n  color: var(--sklearn-color-text);\n}\n\n#sk-container-id-2 pre {\n  padding: 0;\n}\n\n#sk-container-id-2 input.sk-hidden--visually {\n  border: 0;\n  clip: rect(1px 1px 1px 1px);\n  clip: rect(1px, 1px, 1px, 1px);\n  height: 1px;\n  margin: -1px;\n  overflow: hidden;\n  padding: 0;\n  position: absolute;\n  width: 1px;\n}\n\n#sk-container-id-2 div.sk-dashed-wrapped {\n  border: 1px dashed var(--sklearn-color-line);\n  margin: 0 0.4em 0.5em 0.4em;\n  box-sizing: border-box;\n  padding-bottom: 0.4em;\n  background-color: var(--sklearn-color-background);\n}\n\n#sk-container-id-2 div.sk-container {\n  /* jupyter's `normalize.less` sets `[hidden] { display: none; }`\n     but bootstrap.min.css set `[hidden] { display: none !important; }`\n     so we also need the `!important` here to be able to override the\n     default hidden behavior on the sphinx rendered scikit-learn.org.\n     See: https://github.com/scikit-learn/scikit-learn/issues/21755 */\n  display: inline-block !important;\n  position: relative;\n}\n\n#sk-container-id-2 div.sk-text-repr-fallback {\n  display: none;\n}\n\ndiv.sk-parallel-item,\ndiv.sk-serial,\ndiv.sk-item {\n  /* draw centered vertical line to link estimators */\n  background-image: linear-gradient(var(--sklearn-color-text-on-default-background), var(--sklearn-color-text-on-default-background));\n  background-size: 2px 100%;\n  background-repeat: no-repeat;\n  background-position: center center;\n}\n\n/* Parallel-specific style estimator block */\n\n#sk-container-id-2 div.sk-parallel-item::after {\n  content: \"\";\n  width: 100%;\n  border-bottom: 2px solid var(--sklearn-color-text-on-default-background);\n  flex-grow: 1;\n}\n\n#sk-container-id-2 div.sk-parallel {\n  display: flex;\n  align-items: stretch;\n  justify-content: center;\n  background-color: var(--sklearn-color-background);\n  position: relative;\n}\n\n#sk-container-id-2 div.sk-parallel-item {\n  display: flex;\n  flex-direction: column;\n}\n\n#sk-container-id-2 div.sk-parallel-item:first-child::after {\n  align-self: flex-end;\n  width: 50%;\n}\n\n#sk-container-id-2 div.sk-parallel-item:last-child::after {\n  align-self: flex-start;\n  width: 50%;\n}\n\n#sk-container-id-2 div.sk-parallel-item:only-child::after {\n  width: 0;\n}\n\n/* Serial-specific style estimator block */\n\n#sk-container-id-2 div.sk-serial {\n  display: flex;\n  flex-direction: column;\n  align-items: center;\n  background-color: var(--sklearn-color-background);\n  padding-right: 1em;\n  padding-left: 1em;\n}\n\n\n/* Toggleable style: style used for estimator/Pipeline/ColumnTransformer box that is\nclickable and can be expanded/collapsed.\n- Pipeline and ColumnTransformer use this feature and define the default style\n- Estimators will overwrite some part of the style using the `sk-estimator` class\n*/\n\n/* Pipeline and ColumnTransformer style (default) */\n\n#sk-container-id-2 div.sk-toggleable {\n  /* Default theme specific background. It is overwritten whether we have a\n  specific estimator or a Pipeline/ColumnTransformer */\n  background-color: var(--sklearn-color-background);\n}\n\n/* Toggleable label */\n#sk-container-id-2 label.sk-toggleable__label {\n  cursor: pointer;\n  display: block;\n  width: 100%;\n  margin-bottom: 0;\n  padding: 0.5em;\n  box-sizing: border-box;\n  text-align: center;\n}\n\n#sk-container-id-2 label.sk-toggleable__label-arrow:before {\n  /* Arrow on the left of the label */\n  content: \"▸\";\n  float: left;\n  margin-right: 0.25em;\n  color: var(--sklearn-color-icon);\n}\n\n#sk-container-id-2 label.sk-toggleable__label-arrow:hover:before {\n  color: var(--sklearn-color-text);\n}\n\n/* Toggleable content - dropdown */\n\n#sk-container-id-2 div.sk-toggleable__content {\n  max-height: 0;\n  max-width: 0;\n  overflow: hidden;\n  text-align: left;\n  /* unfitted */\n  background-color: var(--sklearn-color-unfitted-level-0);\n}\n\n#sk-container-id-2 div.sk-toggleable__content.fitted {\n  /* fitted */\n  background-color: var(--sklearn-color-fitted-level-0);\n}\n\n#sk-container-id-2 div.sk-toggleable__content pre {\n  margin: 0.2em;\n  border-radius: 0.25em;\n  color: var(--sklearn-color-text);\n  /* unfitted */\n  background-color: var(--sklearn-color-unfitted-level-0);\n}\n\n#sk-container-id-2 div.sk-toggleable__content.fitted pre {\n  /* unfitted */\n  background-color: var(--sklearn-color-fitted-level-0);\n}\n\n#sk-container-id-2 input.sk-toggleable__control:checked~div.sk-toggleable__content {\n  /* Expand drop-down */\n  max-height: 200px;\n  max-width: 100%;\n  overflow: auto;\n}\n\n#sk-container-id-2 input.sk-toggleable__control:checked~label.sk-toggleable__label-arrow:before {\n  content: \"▾\";\n}\n\n/* Pipeline/ColumnTransformer-specific style */\n\n#sk-container-id-2 div.sk-label input.sk-toggleable__control:checked~label.sk-toggleable__label {\n  color: var(--sklearn-color-text);\n  background-color: var(--sklearn-color-unfitted-level-2);\n}\n\n#sk-container-id-2 div.sk-label.fitted input.sk-toggleable__control:checked~label.sk-toggleable__label {\n  background-color: var(--sklearn-color-fitted-level-2);\n}\n\n/* Estimator-specific style */\n\n/* Colorize estimator box */\n#sk-container-id-2 div.sk-estimator input.sk-toggleable__control:checked~label.sk-toggleable__label {\n  /* unfitted */\n  background-color: var(--sklearn-color-unfitted-level-2);\n}\n\n#sk-container-id-2 div.sk-estimator.fitted input.sk-toggleable__control:checked~label.sk-toggleable__label {\n  /* fitted */\n  background-color: var(--sklearn-color-fitted-level-2);\n}\n\n#sk-container-id-2 div.sk-label label.sk-toggleable__label,\n#sk-container-id-2 div.sk-label label {\n  /* The background is the default theme color */\n  color: var(--sklearn-color-text-on-default-background);\n}\n\n/* On hover, darken the color of the background */\n#sk-container-id-2 div.sk-label:hover label.sk-toggleable__label {\n  color: var(--sklearn-color-text);\n  background-color: var(--sklearn-color-unfitted-level-2);\n}\n\n/* Label box, darken color on hover, fitted */\n#sk-container-id-2 div.sk-label.fitted:hover label.sk-toggleable__label.fitted {\n  color: var(--sklearn-color-text);\n  background-color: var(--sklearn-color-fitted-level-2);\n}\n\n/* Estimator label */\n\n#sk-container-id-2 div.sk-label label {\n  font-family: monospace;\n  font-weight: bold;\n  display: inline-block;\n  line-height: 1.2em;\n}\n\n#sk-container-id-2 div.sk-label-container {\n  text-align: center;\n}\n\n/* Estimator-specific */\n#sk-container-id-2 div.sk-estimator {\n  font-family: monospace;\n  border: 1px dotted var(--sklearn-color-border-box);\n  border-radius: 0.25em;\n  box-sizing: border-box;\n  margin-bottom: 0.5em;\n  /* unfitted */\n  background-color: var(--sklearn-color-unfitted-level-0);\n}\n\n#sk-container-id-2 div.sk-estimator.fitted {\n  /* fitted */\n  background-color: var(--sklearn-color-fitted-level-0);\n}\n\n/* on hover */\n#sk-container-id-2 div.sk-estimator:hover {\n  /* unfitted */\n  background-color: var(--sklearn-color-unfitted-level-2);\n}\n\n#sk-container-id-2 div.sk-estimator.fitted:hover {\n  /* fitted */\n  background-color: var(--sklearn-color-fitted-level-2);\n}\n\n/* Specification for estimator info (e.g. \"i\" and \"?\") */\n\n/* Common style for \"i\" and \"?\" */\n\n.sk-estimator-doc-link,\na:link.sk-estimator-doc-link,\na:visited.sk-estimator-doc-link {\n  float: right;\n  font-size: smaller;\n  line-height: 1em;\n  font-family: monospace;\n  background-color: var(--sklearn-color-background);\n  border-radius: 1em;\n  height: 1em;\n  width: 1em;\n  text-decoration: none !important;\n  margin-left: 1ex;\n  /* unfitted */\n  border: var(--sklearn-color-unfitted-level-1) 1pt solid;\n  color: var(--sklearn-color-unfitted-level-1);\n}\n\n.sk-estimator-doc-link.fitted,\na:link.sk-estimator-doc-link.fitted,\na:visited.sk-estimator-doc-link.fitted {\n  /* fitted */\n  border: var(--sklearn-color-fitted-level-1) 1pt solid;\n  color: var(--sklearn-color-fitted-level-1);\n}\n\n/* On hover */\ndiv.sk-estimator:hover .sk-estimator-doc-link:hover,\n.sk-estimator-doc-link:hover,\ndiv.sk-label-container:hover .sk-estimator-doc-link:hover,\n.sk-estimator-doc-link:hover {\n  /* unfitted */\n  background-color: var(--sklearn-color-unfitted-level-3);\n  color: var(--sklearn-color-background);\n  text-decoration: none;\n}\n\ndiv.sk-estimator.fitted:hover .sk-estimator-doc-link.fitted:hover,\n.sk-estimator-doc-link.fitted:hover,\ndiv.sk-label-container:hover .sk-estimator-doc-link.fitted:hover,\n.sk-estimator-doc-link.fitted:hover {\n  /* fitted */\n  background-color: var(--sklearn-color-fitted-level-3);\n  color: var(--sklearn-color-background);\n  text-decoration: none;\n}\n\n/* Span, style for the box shown on hovering the info icon */\n.sk-estimator-doc-link span {\n  display: none;\n  z-index: 9999;\n  position: relative;\n  font-weight: normal;\n  right: .2ex;\n  padding: .5ex;\n  margin: .5ex;\n  width: min-content;\n  min-width: 20ex;\n  max-width: 50ex;\n  color: var(--sklearn-color-text);\n  box-shadow: 2pt 2pt 4pt #999;\n  /* unfitted */\n  background: var(--sklearn-color-unfitted-level-0);\n  border: .5pt solid var(--sklearn-color-unfitted-level-3);\n}\n\n.sk-estimator-doc-link.fitted span {\n  /* fitted */\n  background: var(--sklearn-color-fitted-level-0);\n  border: var(--sklearn-color-fitted-level-3);\n}\n\n.sk-estimator-doc-link:hover span {\n  display: block;\n}\n\n/* \"?\"-specific style due to the `<a>` HTML tag */\n\n#sk-container-id-2 a.estimator_doc_link {\n  float: right;\n  font-size: 1rem;\n  line-height: 1em;\n  font-family: monospace;\n  background-color: var(--sklearn-color-background);\n  border-radius: 1rem;\n  height: 1rem;\n  width: 1rem;\n  text-decoration: none;\n  /* unfitted */\n  color: var(--sklearn-color-unfitted-level-1);\n  border: var(--sklearn-color-unfitted-level-1) 1pt solid;\n}\n\n#sk-container-id-2 a.estimator_doc_link.fitted {\n  /* fitted */\n  border: var(--sklearn-color-fitted-level-1) 1pt solid;\n  color: var(--sklearn-color-fitted-level-1);\n}\n\n/* On hover */\n#sk-container-id-2 a.estimator_doc_link:hover {\n  /* unfitted */\n  background-color: var(--sklearn-color-unfitted-level-3);\n  color: var(--sklearn-color-background);\n  text-decoration: none;\n}\n\n#sk-container-id-2 a.estimator_doc_link.fitted:hover {\n  /* fitted */\n  background-color: var(--sklearn-color-fitted-level-3);\n}\n</style><div id=\"sk-container-id-2\" class=\"sk-top-container\"><div class=\"sk-text-repr-fallback\"><pre>Pipeline(steps=[(&#x27;vectorizer&#x27;, CountVectorizer()), (&#x27;nb&#x27;, MultinomialNB())])</pre><b>In a Jupyter environment, please rerun this cell to show the HTML representation or trust the notebook. <br />On GitHub, the HTML representation is unable to render, please try loading this page with nbviewer.org.</b></div><div class=\"sk-container\" hidden><div class=\"sk-item sk-dashed-wrapped\"><div class=\"sk-label-container\"><div class=\"sk-label fitted sk-toggleable\"><input class=\"sk-toggleable__control sk-hidden--visually\" id=\"sk-estimator-id-2\" type=\"checkbox\" ><label for=\"sk-estimator-id-2\" class=\"sk-toggleable__label fitted sk-toggleable__label-arrow fitted\">&nbsp;&nbsp;Pipeline<a class=\"sk-estimator-doc-link fitted\" rel=\"noreferrer\" target=\"_blank\" href=\"https://scikit-learn.org/1.4/modules/generated/sklearn.pipeline.Pipeline.html\">?<span>Documentation for Pipeline</span></a><span class=\"sk-estimator-doc-link fitted\">i<span>Fitted</span></span></label><div class=\"sk-toggleable__content fitted\"><pre>Pipeline(steps=[(&#x27;vectorizer&#x27;, CountVectorizer()), (&#x27;nb&#x27;, MultinomialNB())])</pre></div> </div></div><div class=\"sk-serial\"><div class=\"sk-item\"><div class=\"sk-estimator fitted sk-toggleable\"><input class=\"sk-toggleable__control sk-hidden--visually\" id=\"sk-estimator-id-3\" type=\"checkbox\" ><label for=\"sk-estimator-id-3\" class=\"sk-toggleable__label fitted sk-toggleable__label-arrow fitted\">&nbsp;CountVectorizer<a class=\"sk-estimator-doc-link fitted\" rel=\"noreferrer\" target=\"_blank\" href=\"https://scikit-learn.org/1.4/modules/generated/sklearn.feature_extraction.text.CountVectorizer.html\">?<span>Documentation for CountVectorizer</span></a></label><div class=\"sk-toggleable__content fitted\"><pre>CountVectorizer()</pre></div> </div></div><div class=\"sk-item\"><div class=\"sk-estimator fitted sk-toggleable\"><input class=\"sk-toggleable__control sk-hidden--visually\" id=\"sk-estimator-id-4\" type=\"checkbox\" ><label for=\"sk-estimator-id-4\" class=\"sk-toggleable__label fitted sk-toggleable__label-arrow fitted\">&nbsp;MultinomialNB<a class=\"sk-estimator-doc-link fitted\" rel=\"noreferrer\" target=\"_blank\" href=\"https://scikit-learn.org/1.4/modules/generated/sklearn.naive_bayes.MultinomialNB.html\">?<span>Documentation for MultinomialNB</span></a></label><div class=\"sk-toggleable__content fitted\"><pre>MultinomialNB()</pre></div> </div></div></div></div></div></div>"
     },
     "execution_count": 40,
     "metadata": {},
     "output_type": "execute_result"
    }
   ],
   "source": [
    "clf.fit(X_train, y_train)"
   ]
  },
  {
   "cell_type": "code",
   "execution_count": 41,
   "metadata": {
    "ExecuteTime": {
     "end_time": "2024-01-23T02:08:14.443929600Z",
     "start_time": "2024-01-23T02:08:14.389514200Z"
    }
   },
   "outputs": [
    {
     "name": "stdout",
     "output_type": "stream",
     "text": [
      "              precision    recall  f1-score   support\n",
      "\n",
      "           0       0.98      1.00      0.99       942\n",
      "           1       1.00      0.91      0.95       173\n",
      "\n",
      "    accuracy                           0.99      1115\n",
      "   macro avg       0.99      0.96      0.97      1115\n",
      "weighted avg       0.99      0.99      0.99      1115\n"
     ]
    }
   ],
   "source": [
    "y_pred = clf.predict(X_test)\n",
    "\n",
    "print(classification_report(y_test, y_pred))"
   ]
  },
  {
   "cell_type": "markdown",
   "metadata": {},
   "source": [
    "## Exercises "
   ]
  },
  {
   "cell_type": "markdown",
   "metadata": {},
   "source": [
    "1. read the data provided in the same directory with name 'movies_sentiment_data.csv' and store it in df variable\n",
    "2. print the shape of the data\n",
    "3. print top 5 datapoints\n",
    "\n",
    "### creating a new column \"Category\" which represent 1 if the sentiment is positive or 0 if it is negative.\n",
    "### check the distribution of 'Category' and see whether the Target labels are balanced or not.\n",
    "### Do the 'train-test' splitting with test size of 20%"
   ]
  },
  {
   "cell_type": "markdown",
   "metadata": {},
   "source": [
    "Exercise 1"
   ]
  },
  {
   "cell_type": "markdown",
   "metadata": {},
   "source": [
    "Using sklearn pipeline module create a classification pipeline to classify the movie review's positive or negative.\n",
    "\n",
    "*use CountVectorizer for pre-processing the text.\n",
    "\n",
    "*use Random Forest as the classifier with estimators as 50 and criterion as entropy.\n",
    "\n",
    "*print the classification report.\n",
    "\n",
    "1. create a pipeline object\n",
    "2. fit with X_train and y_train\n",
    "3. get the predictions for X_test and store it in y_pred\n",
    "4. print the classfication report"
   ]
  },
  {
   "cell_type": "markdown",
   "metadata": {},
   "source": [
    "Solution1"
   ]
  },
  {
   "cell_type": "code",
   "execution_count": 42,
   "metadata": {
    "ExecuteTime": {
     "end_time": "2024-01-23T02:08:58.797950700Z",
     "start_time": "2024-01-23T02:08:58.510875900Z"
    }
   },
   "outputs": [],
   "source": [
    "#import necessary libraries\n",
    "\n",
    "import pandas as pd\n",
    "import numpy as np\n",
    "from sklearn.model_selection import train_test_split\n",
    "from sklearn.feature_extraction.text import CountVectorizer\n",
    "from sklearn.ensemble import RandomForestClassifier\n",
    "from  sklearn.neighbors import KNeighborsClassifier\n",
    "from sklearn.naive_bayes import MultinomialNB\n",
    "from sklearn.pipeline import Pipeline\n",
    "from sklearn.metrics import classification_report"
   ]
  },
  {
   "cell_type": "code",
   "execution_count": 43,
   "metadata": {
    "ExecuteTime": {
     "end_time": "2024-01-23T02:08:59.410457400Z",
     "start_time": "2024-01-23T02:08:59.150376200Z"
    }
   },
   "outputs": [],
   "source": [
    "#1. read the data provided in the same directory with name 'movies_sentiment_data.csv' and store it in df variable\n",
    "df = pd.read_csv(\"movies_sentiment_data.csv\")"
   ]
  },
  {
   "cell_type": "code",
   "execution_count": 44,
   "metadata": {
    "ExecuteTime": {
     "end_time": "2024-01-23T02:08:59.744031700Z",
     "start_time": "2024-01-23T02:08:59.727315500Z"
    }
   },
   "outputs": [
    {
     "name": "stdout",
     "output_type": "stream",
     "text": [
      "(19000, 2)\n"
     ]
    }
   ],
   "source": [
    "#2. print the shape of the data\n",
    "print(df.shape)"
   ]
  },
  {
   "cell_type": "code",
   "execution_count": 45,
   "metadata": {
    "ExecuteTime": {
     "end_time": "2024-01-23T02:09:00.259337900Z",
     "start_time": "2024-01-23T02:09:00.234018200Z"
    }
   },
   "outputs": [
    {
     "data": {
      "text/plain": "                                              review sentiment\n0  I first saw Jake Gyllenhaal in Jarhead (2005) ...  positive\n1  I enjoyed the movie and the story immensely! I...  positive\n2  I had a hard time sitting through this. Every ...  negative\n3  It's hard to imagine that anyone could find th...  negative\n4  This is one military drama I like a lot! Tom B...  positive",
      "text/html": "<div>\n<style scoped>\n    .dataframe tbody tr th:only-of-type {\n        vertical-align: middle;\n    }\n\n    .dataframe tbody tr th {\n        vertical-align: top;\n    }\n\n    .dataframe thead th {\n        text-align: right;\n    }\n</style>\n<table border=\"1\" class=\"dataframe\">\n  <thead>\n    <tr style=\"text-align: right;\">\n      <th></th>\n      <th>review</th>\n      <th>sentiment</th>\n    </tr>\n  </thead>\n  <tbody>\n    <tr>\n      <th>0</th>\n      <td>I first saw Jake Gyllenhaal in Jarhead (2005) ...</td>\n      <td>positive</td>\n    </tr>\n    <tr>\n      <th>1</th>\n      <td>I enjoyed the movie and the story immensely! I...</td>\n      <td>positive</td>\n    </tr>\n    <tr>\n      <th>2</th>\n      <td>I had a hard time sitting through this. Every ...</td>\n      <td>negative</td>\n    </tr>\n    <tr>\n      <th>3</th>\n      <td>It's hard to imagine that anyone could find th...</td>\n      <td>negative</td>\n    </tr>\n    <tr>\n      <th>4</th>\n      <td>This is one military drama I like a lot! Tom B...</td>\n      <td>positive</td>\n    </tr>\n  </tbody>\n</table>\n</div>"
     },
     "execution_count": 45,
     "metadata": {},
     "output_type": "execute_result"
    }
   ],
   "source": [
    "#3. print top 5 datapoints\n",
    "df.head()"
   ]
  },
  {
   "cell_type": "code",
   "execution_count": 46,
   "metadata": {
    "ExecuteTime": {
     "end_time": "2024-01-23T02:09:01.004272400Z",
     "start_time": "2024-01-23T02:09:00.977423Z"
    }
   },
   "outputs": [],
   "source": [
    "#creating a new column \"Category\" which represent 1 if the sentiment is positive or 0 if it is negative\n",
    "df[\"Category\"] = df[\"sentiment\"].apply(lambda x: 1 if x == \"positive\" else 0)"
   ]
  },
  {
   "cell_type": "code",
   "execution_count": 47,
   "metadata": {
    "ExecuteTime": {
     "end_time": "2024-01-23T02:09:01.636804700Z",
     "start_time": "2024-01-23T02:09:01.624442700Z"
    }
   },
   "outputs": [
    {
     "data": {
      "text/plain": "1    9500\n0    9500\nName: Category, dtype: int64"
     },
     "execution_count": 47,
     "metadata": {},
     "output_type": "execute_result"
    }
   ],
   "source": [
    "#check the distribution of 'Category' and see whether the Target labels are balanced or not.\n",
    "df[\"Category\"].value_counts()"
   ]
  },
  {
   "cell_type": "code",
   "execution_count": 48,
   "metadata": {
    "ExecuteTime": {
     "end_time": "2024-01-23T02:09:02.335597100Z",
     "start_time": "2024-01-23T02:09:02.318843700Z"
    }
   },
   "outputs": [],
   "source": [
    "#Do the 'train-test' splitting with test size of 20%\n",
    "X_train, X_test, y_train, y_test = train_test_split(df.review, df.Category, test_size = 0.2)"
   ]
  },
  {
   "cell_type": "markdown",
   "metadata": {},
   "source": [
    "Solution Exercise 1"
   ]
  },
  {
   "cell_type": "code",
   "execution_count": 49,
   "metadata": {
    "ExecuteTime": {
     "end_time": "2024-01-23T02:09:03.418407700Z",
     "start_time": "2024-01-23T02:09:03.391654300Z"
    }
   },
   "outputs": [],
   "source": [
    "#1. create a pipeline object\n",
    "\n",
    "clf = Pipeline([\n",
    "    (\"vectorizer\", CountVectorizer()), #initializing the vectorizer\n",
    "    (\"random_forest\", (RandomForestClassifier(n_estimators = 50, criterion = \"entropy\"))) #using the RandomForest classifier\n",
    "])"
   ]
  },
  {
   "cell_type": "code",
   "execution_count": 50,
   "metadata": {
    "ExecuteTime": {
     "end_time": "2024-01-23T02:09:28.934793600Z",
     "start_time": "2024-01-23T02:09:04.004923300Z"
    }
   },
   "outputs": [
    {
     "data": {
      "text/plain": "Pipeline(steps=[('vectorizer', CountVectorizer()),\n                ('random_forest',\n                 RandomForestClassifier(criterion='entropy', n_estimators=50))])",
      "text/html": "<style>#sk-container-id-3 {\n  /* Definition of color scheme common for light and dark mode */\n  --sklearn-color-text: black;\n  --sklearn-color-line: gray;\n  /* Definition of color scheme for unfitted estimators */\n  --sklearn-color-unfitted-level-0: #fff5e6;\n  --sklearn-color-unfitted-level-1: #f6e4d2;\n  --sklearn-color-unfitted-level-2: #ffe0b3;\n  --sklearn-color-unfitted-level-3: chocolate;\n  /* Definition of color scheme for fitted estimators */\n  --sklearn-color-fitted-level-0: #f0f8ff;\n  --sklearn-color-fitted-level-1: #d4ebff;\n  --sklearn-color-fitted-level-2: #b3dbfd;\n  --sklearn-color-fitted-level-3: cornflowerblue;\n\n  /* Specific color for light theme */\n  --sklearn-color-text-on-default-background: var(--sg-text-color, var(--theme-code-foreground, var(--jp-content-font-color1, black)));\n  --sklearn-color-background: var(--sg-background-color, var(--theme-background, var(--jp-layout-color0, white)));\n  --sklearn-color-border-box: var(--sg-text-color, var(--theme-code-foreground, var(--jp-content-font-color1, black)));\n  --sklearn-color-icon: #696969;\n\n  @media (prefers-color-scheme: dark) {\n    /* Redefinition of color scheme for dark theme */\n    --sklearn-color-text-on-default-background: var(--sg-text-color, var(--theme-code-foreground, var(--jp-content-font-color1, white)));\n    --sklearn-color-background: var(--sg-background-color, var(--theme-background, var(--jp-layout-color0, #111)));\n    --sklearn-color-border-box: var(--sg-text-color, var(--theme-code-foreground, var(--jp-content-font-color1, white)));\n    --sklearn-color-icon: #878787;\n  }\n}\n\n#sk-container-id-3 {\n  color: var(--sklearn-color-text);\n}\n\n#sk-container-id-3 pre {\n  padding: 0;\n}\n\n#sk-container-id-3 input.sk-hidden--visually {\n  border: 0;\n  clip: rect(1px 1px 1px 1px);\n  clip: rect(1px, 1px, 1px, 1px);\n  height: 1px;\n  margin: -1px;\n  overflow: hidden;\n  padding: 0;\n  position: absolute;\n  width: 1px;\n}\n\n#sk-container-id-3 div.sk-dashed-wrapped {\n  border: 1px dashed var(--sklearn-color-line);\n  margin: 0 0.4em 0.5em 0.4em;\n  box-sizing: border-box;\n  padding-bottom: 0.4em;\n  background-color: var(--sklearn-color-background);\n}\n\n#sk-container-id-3 div.sk-container {\n  /* jupyter's `normalize.less` sets `[hidden] { display: none; }`\n     but bootstrap.min.css set `[hidden] { display: none !important; }`\n     so we also need the `!important` here to be able to override the\n     default hidden behavior on the sphinx rendered scikit-learn.org.\n     See: https://github.com/scikit-learn/scikit-learn/issues/21755 */\n  display: inline-block !important;\n  position: relative;\n}\n\n#sk-container-id-3 div.sk-text-repr-fallback {\n  display: none;\n}\n\ndiv.sk-parallel-item,\ndiv.sk-serial,\ndiv.sk-item {\n  /* draw centered vertical line to link estimators */\n  background-image: linear-gradient(var(--sklearn-color-text-on-default-background), var(--sklearn-color-text-on-default-background));\n  background-size: 2px 100%;\n  background-repeat: no-repeat;\n  background-position: center center;\n}\n\n/* Parallel-specific style estimator block */\n\n#sk-container-id-3 div.sk-parallel-item::after {\n  content: \"\";\n  width: 100%;\n  border-bottom: 2px solid var(--sklearn-color-text-on-default-background);\n  flex-grow: 1;\n}\n\n#sk-container-id-3 div.sk-parallel {\n  display: flex;\n  align-items: stretch;\n  justify-content: center;\n  background-color: var(--sklearn-color-background);\n  position: relative;\n}\n\n#sk-container-id-3 div.sk-parallel-item {\n  display: flex;\n  flex-direction: column;\n}\n\n#sk-container-id-3 div.sk-parallel-item:first-child::after {\n  align-self: flex-end;\n  width: 50%;\n}\n\n#sk-container-id-3 div.sk-parallel-item:last-child::after {\n  align-self: flex-start;\n  width: 50%;\n}\n\n#sk-container-id-3 div.sk-parallel-item:only-child::after {\n  width: 0;\n}\n\n/* Serial-specific style estimator block */\n\n#sk-container-id-3 div.sk-serial {\n  display: flex;\n  flex-direction: column;\n  align-items: center;\n  background-color: var(--sklearn-color-background);\n  padding-right: 1em;\n  padding-left: 1em;\n}\n\n\n/* Toggleable style: style used for estimator/Pipeline/ColumnTransformer box that is\nclickable and can be expanded/collapsed.\n- Pipeline and ColumnTransformer use this feature and define the default style\n- Estimators will overwrite some part of the style using the `sk-estimator` class\n*/\n\n/* Pipeline and ColumnTransformer style (default) */\n\n#sk-container-id-3 div.sk-toggleable {\n  /* Default theme specific background. It is overwritten whether we have a\n  specific estimator or a Pipeline/ColumnTransformer */\n  background-color: var(--sklearn-color-background);\n}\n\n/* Toggleable label */\n#sk-container-id-3 label.sk-toggleable__label {\n  cursor: pointer;\n  display: block;\n  width: 100%;\n  margin-bottom: 0;\n  padding: 0.5em;\n  box-sizing: border-box;\n  text-align: center;\n}\n\n#sk-container-id-3 label.sk-toggleable__label-arrow:before {\n  /* Arrow on the left of the label */\n  content: \"▸\";\n  float: left;\n  margin-right: 0.25em;\n  color: var(--sklearn-color-icon);\n}\n\n#sk-container-id-3 label.sk-toggleable__label-arrow:hover:before {\n  color: var(--sklearn-color-text);\n}\n\n/* Toggleable content - dropdown */\n\n#sk-container-id-3 div.sk-toggleable__content {\n  max-height: 0;\n  max-width: 0;\n  overflow: hidden;\n  text-align: left;\n  /* unfitted */\n  background-color: var(--sklearn-color-unfitted-level-0);\n}\n\n#sk-container-id-3 div.sk-toggleable__content.fitted {\n  /* fitted */\n  background-color: var(--sklearn-color-fitted-level-0);\n}\n\n#sk-container-id-3 div.sk-toggleable__content pre {\n  margin: 0.2em;\n  border-radius: 0.25em;\n  color: var(--sklearn-color-text);\n  /* unfitted */\n  background-color: var(--sklearn-color-unfitted-level-0);\n}\n\n#sk-container-id-3 div.sk-toggleable__content.fitted pre {\n  /* unfitted */\n  background-color: var(--sklearn-color-fitted-level-0);\n}\n\n#sk-container-id-3 input.sk-toggleable__control:checked~div.sk-toggleable__content {\n  /* Expand drop-down */\n  max-height: 200px;\n  max-width: 100%;\n  overflow: auto;\n}\n\n#sk-container-id-3 input.sk-toggleable__control:checked~label.sk-toggleable__label-arrow:before {\n  content: \"▾\";\n}\n\n/* Pipeline/ColumnTransformer-specific style */\n\n#sk-container-id-3 div.sk-label input.sk-toggleable__control:checked~label.sk-toggleable__label {\n  color: var(--sklearn-color-text);\n  background-color: var(--sklearn-color-unfitted-level-2);\n}\n\n#sk-container-id-3 div.sk-label.fitted input.sk-toggleable__control:checked~label.sk-toggleable__label {\n  background-color: var(--sklearn-color-fitted-level-2);\n}\n\n/* Estimator-specific style */\n\n/* Colorize estimator box */\n#sk-container-id-3 div.sk-estimator input.sk-toggleable__control:checked~label.sk-toggleable__label {\n  /* unfitted */\n  background-color: var(--sklearn-color-unfitted-level-2);\n}\n\n#sk-container-id-3 div.sk-estimator.fitted input.sk-toggleable__control:checked~label.sk-toggleable__label {\n  /* fitted */\n  background-color: var(--sklearn-color-fitted-level-2);\n}\n\n#sk-container-id-3 div.sk-label label.sk-toggleable__label,\n#sk-container-id-3 div.sk-label label {\n  /* The background is the default theme color */\n  color: var(--sklearn-color-text-on-default-background);\n}\n\n/* On hover, darken the color of the background */\n#sk-container-id-3 div.sk-label:hover label.sk-toggleable__label {\n  color: var(--sklearn-color-text);\n  background-color: var(--sklearn-color-unfitted-level-2);\n}\n\n/* Label box, darken color on hover, fitted */\n#sk-container-id-3 div.sk-label.fitted:hover label.sk-toggleable__label.fitted {\n  color: var(--sklearn-color-text);\n  background-color: var(--sklearn-color-fitted-level-2);\n}\n\n/* Estimator label */\n\n#sk-container-id-3 div.sk-label label {\n  font-family: monospace;\n  font-weight: bold;\n  display: inline-block;\n  line-height: 1.2em;\n}\n\n#sk-container-id-3 div.sk-label-container {\n  text-align: center;\n}\n\n/* Estimator-specific */\n#sk-container-id-3 div.sk-estimator {\n  font-family: monospace;\n  border: 1px dotted var(--sklearn-color-border-box);\n  border-radius: 0.25em;\n  box-sizing: border-box;\n  margin-bottom: 0.5em;\n  /* unfitted */\n  background-color: var(--sklearn-color-unfitted-level-0);\n}\n\n#sk-container-id-3 div.sk-estimator.fitted {\n  /* fitted */\n  background-color: var(--sklearn-color-fitted-level-0);\n}\n\n/* on hover */\n#sk-container-id-3 div.sk-estimator:hover {\n  /* unfitted */\n  background-color: var(--sklearn-color-unfitted-level-2);\n}\n\n#sk-container-id-3 div.sk-estimator.fitted:hover {\n  /* fitted */\n  background-color: var(--sklearn-color-fitted-level-2);\n}\n\n/* Specification for estimator info (e.g. \"i\" and \"?\") */\n\n/* Common style for \"i\" and \"?\" */\n\n.sk-estimator-doc-link,\na:link.sk-estimator-doc-link,\na:visited.sk-estimator-doc-link {\n  float: right;\n  font-size: smaller;\n  line-height: 1em;\n  font-family: monospace;\n  background-color: var(--sklearn-color-background);\n  border-radius: 1em;\n  height: 1em;\n  width: 1em;\n  text-decoration: none !important;\n  margin-left: 1ex;\n  /* unfitted */\n  border: var(--sklearn-color-unfitted-level-1) 1pt solid;\n  color: var(--sklearn-color-unfitted-level-1);\n}\n\n.sk-estimator-doc-link.fitted,\na:link.sk-estimator-doc-link.fitted,\na:visited.sk-estimator-doc-link.fitted {\n  /* fitted */\n  border: var(--sklearn-color-fitted-level-1) 1pt solid;\n  color: var(--sklearn-color-fitted-level-1);\n}\n\n/* On hover */\ndiv.sk-estimator:hover .sk-estimator-doc-link:hover,\n.sk-estimator-doc-link:hover,\ndiv.sk-label-container:hover .sk-estimator-doc-link:hover,\n.sk-estimator-doc-link:hover {\n  /* unfitted */\n  background-color: var(--sklearn-color-unfitted-level-3);\n  color: var(--sklearn-color-background);\n  text-decoration: none;\n}\n\ndiv.sk-estimator.fitted:hover .sk-estimator-doc-link.fitted:hover,\n.sk-estimator-doc-link.fitted:hover,\ndiv.sk-label-container:hover .sk-estimator-doc-link.fitted:hover,\n.sk-estimator-doc-link.fitted:hover {\n  /* fitted */\n  background-color: var(--sklearn-color-fitted-level-3);\n  color: var(--sklearn-color-background);\n  text-decoration: none;\n}\n\n/* Span, style for the box shown on hovering the info icon */\n.sk-estimator-doc-link span {\n  display: none;\n  z-index: 9999;\n  position: relative;\n  font-weight: normal;\n  right: .2ex;\n  padding: .5ex;\n  margin: .5ex;\n  width: min-content;\n  min-width: 20ex;\n  max-width: 50ex;\n  color: var(--sklearn-color-text);\n  box-shadow: 2pt 2pt 4pt #999;\n  /* unfitted */\n  background: var(--sklearn-color-unfitted-level-0);\n  border: .5pt solid var(--sklearn-color-unfitted-level-3);\n}\n\n.sk-estimator-doc-link.fitted span {\n  /* fitted */\n  background: var(--sklearn-color-fitted-level-0);\n  border: var(--sklearn-color-fitted-level-3);\n}\n\n.sk-estimator-doc-link:hover span {\n  display: block;\n}\n\n/* \"?\"-specific style due to the `<a>` HTML tag */\n\n#sk-container-id-3 a.estimator_doc_link {\n  float: right;\n  font-size: 1rem;\n  line-height: 1em;\n  font-family: monospace;\n  background-color: var(--sklearn-color-background);\n  border-radius: 1rem;\n  height: 1rem;\n  width: 1rem;\n  text-decoration: none;\n  /* unfitted */\n  color: var(--sklearn-color-unfitted-level-1);\n  border: var(--sklearn-color-unfitted-level-1) 1pt solid;\n}\n\n#sk-container-id-3 a.estimator_doc_link.fitted {\n  /* fitted */\n  border: var(--sklearn-color-fitted-level-1) 1pt solid;\n  color: var(--sklearn-color-fitted-level-1);\n}\n\n/* On hover */\n#sk-container-id-3 a.estimator_doc_link:hover {\n  /* unfitted */\n  background-color: var(--sklearn-color-unfitted-level-3);\n  color: var(--sklearn-color-background);\n  text-decoration: none;\n}\n\n#sk-container-id-3 a.estimator_doc_link.fitted:hover {\n  /* fitted */\n  background-color: var(--sklearn-color-fitted-level-3);\n}\n</style><div id=\"sk-container-id-3\" class=\"sk-top-container\"><div class=\"sk-text-repr-fallback\"><pre>Pipeline(steps=[(&#x27;vectorizer&#x27;, CountVectorizer()),\n                (&#x27;random_forest&#x27;,\n                 RandomForestClassifier(criterion=&#x27;entropy&#x27;, n_estimators=50))])</pre><b>In a Jupyter environment, please rerun this cell to show the HTML representation or trust the notebook. <br />On GitHub, the HTML representation is unable to render, please try loading this page with nbviewer.org.</b></div><div class=\"sk-container\" hidden><div class=\"sk-item sk-dashed-wrapped\"><div class=\"sk-label-container\"><div class=\"sk-label fitted sk-toggleable\"><input class=\"sk-toggleable__control sk-hidden--visually\" id=\"sk-estimator-id-5\" type=\"checkbox\" ><label for=\"sk-estimator-id-5\" class=\"sk-toggleable__label fitted sk-toggleable__label-arrow fitted\">&nbsp;&nbsp;Pipeline<a class=\"sk-estimator-doc-link fitted\" rel=\"noreferrer\" target=\"_blank\" href=\"https://scikit-learn.org/1.4/modules/generated/sklearn.pipeline.Pipeline.html\">?<span>Documentation for Pipeline</span></a><span class=\"sk-estimator-doc-link fitted\">i<span>Fitted</span></span></label><div class=\"sk-toggleable__content fitted\"><pre>Pipeline(steps=[(&#x27;vectorizer&#x27;, CountVectorizer()),\n                (&#x27;random_forest&#x27;,\n                 RandomForestClassifier(criterion=&#x27;entropy&#x27;, n_estimators=50))])</pre></div> </div></div><div class=\"sk-serial\"><div class=\"sk-item\"><div class=\"sk-estimator fitted sk-toggleable\"><input class=\"sk-toggleable__control sk-hidden--visually\" id=\"sk-estimator-id-6\" type=\"checkbox\" ><label for=\"sk-estimator-id-6\" class=\"sk-toggleable__label fitted sk-toggleable__label-arrow fitted\">&nbsp;CountVectorizer<a class=\"sk-estimator-doc-link fitted\" rel=\"noreferrer\" target=\"_blank\" href=\"https://scikit-learn.org/1.4/modules/generated/sklearn.feature_extraction.text.CountVectorizer.html\">?<span>Documentation for CountVectorizer</span></a></label><div class=\"sk-toggleable__content fitted\"><pre>CountVectorizer()</pre></div> </div></div><div class=\"sk-item\"><div class=\"sk-estimator fitted sk-toggleable\"><input class=\"sk-toggleable__control sk-hidden--visually\" id=\"sk-estimator-id-7\" type=\"checkbox\" ><label for=\"sk-estimator-id-7\" class=\"sk-toggleable__label fitted sk-toggleable__label-arrow fitted\">&nbsp;RandomForestClassifier<a class=\"sk-estimator-doc-link fitted\" rel=\"noreferrer\" target=\"_blank\" href=\"https://scikit-learn.org/1.4/modules/generated/sklearn.ensemble.RandomForestClassifier.html\">?<span>Documentation for RandomForestClassifier</span></a></label><div class=\"sk-toggleable__content fitted\"><pre>RandomForestClassifier(criterion=&#x27;entropy&#x27;, n_estimators=50)</pre></div> </div></div></div></div></div></div>"
     },
     "execution_count": 50,
     "metadata": {},
     "output_type": "execute_result"
    }
   ],
   "source": [
    "#2. fit with X_train and y_train\n",
    "clf.fit(X_train, y_train)"
   ]
  },
  {
   "cell_type": "code",
   "execution_count": null,
   "metadata": {
    "is_executing": true,
    "ExecuteTime": {
     "start_time": "2024-01-23T02:09:28.935879600Z"
    }
   },
   "outputs": [],
   "source": [
    "#3. get the predictions for X_test and store it in y_pred\n",
    "y_pred = clf.predict(X_test)"
   ]
  },
  {
   "cell_type": "code",
   "execution_count": null,
   "metadata": {
    "is_executing": true
   },
   "outputs": [],
   "source": [
    "#4. print the classfication report\n",
    "print(classification_report(y_test, y_pred))"
   ]
  },
  {
   "cell_type": "markdown",
   "source": [
    "Exercise 2"
   ],
   "metadata": {
    "collapsed": false
   }
  },
  {
   "cell_type": "markdown",
   "metadata": {},
   "source": [
    "Using sklearn pipeline module create a classification pipeline to classify the movie review's positive or negative..\n",
    "Note:\n",
    "\n",
    "*use CountVectorizer for pre-processing the text.\n",
    "\n",
    "*use KNN as the classifier with n_neighbors of 10 and metric as 'euclidean'.\n",
    "\n",
    "*print the classification report.\n",
    "\n",
    "1. create a pipeline object\n",
    "2. fit with X_train and y_train\n",
    "3. get the predictions for X_test and store it in y_pred\n",
    "4. print the classfication report"
   ]
  },
  {
   "cell_type": "markdown",
   "metadata": {},
   "source": [
    "Solution Exercise 2"
   ]
  },
  {
   "cell_type": "code",
   "execution_count": null,
   "metadata": {
    "is_executing": true
   },
   "outputs": [],
   "source": [
    "#1. create a pipeline object\n",
    "clf = Pipeline([\n",
    "            (\"vectorizer\", CountVectorizer()),   \n",
    "            (\"KNN\", (KNeighborsClassifier(n_neighbors = 10, metric = \"euclidean\")))   #using the KNN classifier with 10 neighbors \n",
    "])"
   ]
  },
  {
   "cell_type": "code",
   "execution_count": null,
   "metadata": {
    "is_executing": true
   },
   "outputs": [],
   "source": [
    "#2. fit with X_train and y_train\n",
    "clf.fit(X_train, y_train)"
   ]
  },
  {
   "cell_type": "code",
   "execution_count": null,
   "metadata": {
    "is_executing": true
   },
   "outputs": [],
   "source": [
    "#3. get the predictions for X_test and store it in y_pred\n",
    "y_pred = clf.predict(X_test)"
   ]
  },
  {
   "cell_type": "code",
   "execution_count": null,
   "metadata": {
    "is_executing": true
   },
   "outputs": [],
   "source": [
    "#4. print the classification report\n",
    "print(classification_report(y_test, y_pred))"
   ]
  },
  {
   "cell_type": "markdown",
   "metadata": {},
   "source": [
    "Exercise 3"
   ]
  },
  {
   "cell_type": "markdown",
   "metadata": {},
   "source": [
    "Using sklearn pipeline module create a classification pipeline to classify the movie review's positive or negative..\n",
    "Note:\n",
    "\n",
    "*use CountVectorizer for pre-processing the text.\n",
    "\n",
    "*use Multinomial Naive Bayes as the classifier.\n",
    "\n",
    "*print the classification report.\n",
    "\n",
    "1. create a pipeline object\n",
    "2. fit with X_train and y_train\n",
    "3. get the predictions for X_test and store it in y_pred\n",
    "4. print the classfication report"
   ]
  },
  {
   "cell_type": "markdown",
   "metadata": {},
   "source": [
    "Solution Exercise 3"
   ]
  },
  {
   "cell_type": "code",
   "execution_count": null,
   "metadata": {
    "is_executing": true
   },
   "outputs": [],
   "source": [
    "#1. create a pipeline object\n",
    "clf = Pipeline([\n",
    "            (\"vectorizer\", CountVectorizer()),   \n",
    "            (\"Multi NB\", MultinomialNB())   #using the Multinomial Naive Bayes classifier \n",
    "])"
   ]
  },
  {
   "cell_type": "code",
   "execution_count": null,
   "metadata": {
    "is_executing": true
   },
   "outputs": [],
   "source": [
    "#2. fit with X_train and y_train\n",
    "clf.fit(X_train, y_train)"
   ]
  },
  {
   "cell_type": "code",
   "execution_count": null,
   "metadata": {
    "is_executing": true
   },
   "outputs": [],
   "source": [
    "#3. get the predictions for X_test and store it in y_pred\n",
    "y_pred = clf.predict(X_test)"
   ]
  },
  {
   "cell_type": "code",
   "execution_count": null,
   "metadata": {
    "is_executing": true
   },
   "outputs": [],
   "source": [
    "#4. print the classification report\n",
    "print(classification_report(y_test, y_pred))"
   ]
  }
 ],
 "metadata": {
  "kernelspec": {
   "display_name": "Python 3",
   "language": "python",
   "name": "python3"
  },
  "language_info": {
   "codemirror_mode": {
    "name": "ipython",
    "version": 3
   },
   "file_extension": ".py",
   "mimetype": "text/x-python",
   "name": "python",
   "nbconvert_exporter": "python",
   "pygments_lexer": "ipython3",
   "version": "3.8.3"
  }
 },
 "nbformat": 4,
 "nbformat_minor": 4
}
